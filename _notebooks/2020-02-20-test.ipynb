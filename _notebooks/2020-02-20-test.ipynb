{
  "nbformat": 4,
  "nbformat_minor": 0,
  "metadata": {
    "kernelspec": {
      "display_name": "Python 3",
      "language": "python",
      "name": "python3"
    },
    "language_info": {
      "codemirror_mode": {
        "name": "ipython",
        "version": 3
      },
      "file_extension": ".py",
      "mimetype": "text/x-python",
      "name": "python",
      "nbconvert_exporter": "python",
      "pygments_lexer": "ipython3",
      "version": "3.6.7"
    },
    "varInspector": {
      "cols": {
        "lenName": 16,
        "lenType": 16,
        "lenVar": 40
      },
      "kernels_config": {
        "python": {
          "delete_cmd_postfix": "",
          "delete_cmd_prefix": "del ",
          "library": "var_list.py",
          "varRefreshCmd": "print(var_dic_list())"
        },
        "r": {
          "delete_cmd_postfix": ") ",
          "delete_cmd_prefix": "rm(",
          "library": "var_list.r",
          "varRefreshCmd": "cat(var_dic_list()) "
        }
      },
      "types_to_exclude": [
        "module",
        "function",
        "builtin_function_or_method",
        "instance",
        "_Feature"
      ],
      "window_display": false
    },
    "colab": {
      "name": "2020-02-20-test.ipynb",
      "provenance": []
    }
  },
  "cells": [
    {
      "cell_type": "markdown",
      "metadata": {
        "id": "ADXq_QDAxhMk",
        "colab_type": "text"
      },
      "source": [
        "# Learning To Program Cellular Automata With Jax\n",
        "> A tutorial of fastpages for Jupyter notebooks.\n",
        "\n",
        "- toc: true \n",
        "- badges: true\n",
        "- comments: true\n",
        "- categories: [jupyter]\n",
        "- image: images/chart-preview.png"
      ]
    },
    {
      "cell_type": "code",
      "metadata": {
        "id": "e-Heej2e3Q7c",
        "colab_type": "code",
        "colab": {
          "base_uri": "https://localhost:8080/",
          "height": 207
        },
        "outputId": "ae573c52-780c-43a3-e217-df46a81a03be"
      },
      "source": [
        "!pip install pypng"
      ],
      "execution_count": 10,
      "outputs": [
        {
          "output_type": "stream",
          "text": [
            "Collecting pypng\n",
            "\u001b[?25l  Downloading https://files.pythonhosted.org/packages/bc/fb/f719f1ac965e2101aa6ea6f54ef8b40f8fbb033f6ad07c017663467f5147/pypng-0.0.20.tar.gz (649kB)\n",
            "\r\u001b[K     |▌                               | 10kB 16.3MB/s eta 0:00:01\r\u001b[K     |█                               | 20kB 1.7MB/s eta 0:00:01\r\u001b[K     |█▌                              | 30kB 2.3MB/s eta 0:00:01\r\u001b[K     |██                              | 40kB 2.6MB/s eta 0:00:01\r\u001b[K     |██▌                             | 51kB 2.0MB/s eta 0:00:01\r\u001b[K     |███                             | 61kB 2.3MB/s eta 0:00:01\r\u001b[K     |███▌                            | 71kB 2.5MB/s eta 0:00:01\r\u001b[K     |████                            | 81kB 2.7MB/s eta 0:00:01\r\u001b[K     |████▌                           | 92kB 2.9MB/s eta 0:00:01\r\u001b[K     |█████                           | 102kB 2.8MB/s eta 0:00:01\r\u001b[K     |█████▌                          | 112kB 2.8MB/s eta 0:00:01\r\u001b[K     |██████                          | 122kB 2.8MB/s eta 0:00:01\r\u001b[K     |██████▋                         | 133kB 2.8MB/s eta 0:00:01\r\u001b[K     |███████                         | 143kB 2.8MB/s eta 0:00:01\r\u001b[K     |███████▋                        | 153kB 2.8MB/s eta 0:00:01\r\u001b[K     |████████                        | 163kB 2.8MB/s eta 0:00:01\r\u001b[K     |████████▋                       | 174kB 2.8MB/s eta 0:00:01\r\u001b[K     |█████████                       | 184kB 2.8MB/s eta 0:00:01\r\u001b[K     |█████████▋                      | 194kB 2.8MB/s eta 0:00:01\r\u001b[K     |██████████                      | 204kB 2.8MB/s eta 0:00:01\r\u001b[K     |██████████▋                     | 215kB 2.8MB/s eta 0:00:01\r\u001b[K     |███████████                     | 225kB 2.8MB/s eta 0:00:01\r\u001b[K     |███████████▋                    | 235kB 2.8MB/s eta 0:00:01\r\u001b[K     |████████████                    | 245kB 2.8MB/s eta 0:00:01\r\u001b[K     |████████████▋                   | 256kB 2.8MB/s eta 0:00:01\r\u001b[K     |█████████████▏                  | 266kB 2.8MB/s eta 0:00:01\r\u001b[K     |█████████████▋                  | 276kB 2.8MB/s eta 0:00:01\r\u001b[K     |██████████████▏                 | 286kB 2.8MB/s eta 0:00:01\r\u001b[K     |██████████████▋                 | 296kB 2.8MB/s eta 0:00:01\r\u001b[K     |███████████████▏                | 307kB 2.8MB/s eta 0:00:01\r\u001b[K     |███████████████▋                | 317kB 2.8MB/s eta 0:00:01\r\u001b[K     |████████████████▏               | 327kB 2.8MB/s eta 0:00:01\r\u001b[K     |████████████████▋               | 337kB 2.8MB/s eta 0:00:01\r\u001b[K     |█████████████████▏              | 348kB 2.8MB/s eta 0:00:01\r\u001b[K     |█████████████████▋              | 358kB 2.8MB/s eta 0:00:01\r\u001b[K     |██████████████████▏             | 368kB 2.8MB/s eta 0:00:01\r\u001b[K     |██████████████████▋             | 378kB 2.8MB/s eta 0:00:01\r\u001b[K     |███████████████████▏            | 389kB 2.8MB/s eta 0:00:01\r\u001b[K     |███████████████████▊            | 399kB 2.8MB/s eta 0:00:01\r\u001b[K     |████████████████████▏           | 409kB 2.8MB/s eta 0:00:01\r\u001b[K     |████████████████████▊           | 419kB 2.8MB/s eta 0:00:01\r\u001b[K     |█████████████████████▏          | 430kB 2.8MB/s eta 0:00:01\r\u001b[K     |█████████████████████▊          | 440kB 2.8MB/s eta 0:00:01\r\u001b[K     |██████████████████████▏         | 450kB 2.8MB/s eta 0:00:01\r\u001b[K     |██████████████████████▊         | 460kB 2.8MB/s eta 0:00:01\r\u001b[K     |███████████████████████▏        | 471kB 2.8MB/s eta 0:00:01\r\u001b[K     |███████████████████████▊        | 481kB 2.8MB/s eta 0:00:01\r\u001b[K     |████████████████████████▏       | 491kB 2.8MB/s eta 0:00:01\r\u001b[K     |████████████████████████▊       | 501kB 2.8MB/s eta 0:00:01\r\u001b[K     |█████████████████████████▎      | 512kB 2.8MB/s eta 0:00:01\r\u001b[K     |█████████████████████████▊      | 522kB 2.8MB/s eta 0:00:01\r\u001b[K     |██████████████████████████▎     | 532kB 2.8MB/s eta 0:00:01\r\u001b[K     |██████████████████████████▊     | 542kB 2.8MB/s eta 0:00:01\r\u001b[K     |███████████████████████████▎    | 552kB 2.8MB/s eta 0:00:01\r\u001b[K     |███████████████████████████▊    | 563kB 2.8MB/s eta 0:00:01\r\u001b[K     |████████████████████████████▎   | 573kB 2.8MB/s eta 0:00:01\r\u001b[K     |████████████████████████████▊   | 583kB 2.8MB/s eta 0:00:01\r\u001b[K     |█████████████████████████████▎  | 593kB 2.8MB/s eta 0:00:01\r\u001b[K     |█████████████████████████████▊  | 604kB 2.8MB/s eta 0:00:01\r\u001b[K     |██████████████████████████████▎ | 614kB 2.8MB/s eta 0:00:01\r\u001b[K     |██████████████████████████████▊ | 624kB 2.8MB/s eta 0:00:01\r\u001b[K     |███████████████████████████████▎| 634kB 2.8MB/s eta 0:00:01\r\u001b[K     |███████████████████████████████▉| 645kB 2.8MB/s eta 0:00:01\r\u001b[K     |████████████████████████████████| 655kB 2.8MB/s \n",
            "\u001b[?25hBuilding wheels for collected packages: pypng\n",
            "  Building wheel for pypng (setup.py) ... \u001b[?25l\u001b[?25hdone\n",
            "  Created wheel for pypng: filename=pypng-0.0.20-cp36-none-any.whl size=67161 sha256=006a66b44bd233d6a40cc47b6738b755c4513aa7f8f1952d3cd06d802eea73b7\n",
            "  Stored in directory: /root/.cache/pip/wheels/41/6b/ef/0493b536b6d4722c2ae9486691b1d49b922b9877922beeabb3\n",
            "Successfully built pypng\n",
            "Installing collected packages: pypng\n",
            "Successfully installed pypng-0.0.20\n"
          ],
          "name": "stdout"
        }
      ]
    },
    {
      "cell_type": "code",
      "metadata": {
        "id": "8ngzqRDB27ef",
        "colab_type": "code",
        "colab": {}
      },
      "source": [
        "import base64\n",
        "\n",
        "import png\n",
        "import io\n",
        "import numpy as np\n",
        "import png\n",
        "def png_bytes(a):\n",
        "    output = io.BytesIO()\n",
        "    b = (1 - a)\n",
        "    png.from_array((b*255).astype(np.uint8), 'L').write(output)\n",
        "    return output.getvalue()\n",
        "\n",
        "def data_url(x):\n",
        "  return (b'data:image/png;base64,'+base64.b64encode(png_bytes(x))).decode(\"utf-8\")      "
      ],
      "execution_count": 52,
      "outputs": []
    },
    {
      "cell_type": "code",
      "metadata": {
        "id": "wZZ3HWWU2FgB",
        "colab_type": "code",
        "colab": {}
      },
      "source": [
        "import altair as alt\n",
        "import pandas as pd\n",
        "\n",
        "source = pd.DataFrame.from_records([\n",
        "      {\"x\": 0.0, \"y\": 0.0, \"img\": data_url(np.identity(128))},\n",
        "      {\"x\": 128.0, \"y\": 0.0, \"img\": data_url(np.ones([128,128]) * 0.5)},\n",
        "      {\"x\": 256.0, \"y\": 0.0, \"img\": data_url(np.identity(128))},\n",
        "      {\"x\": 128*3, \"y\": 0.0, \"img\": data_url(np.identity(128))}\n",
        "])\n",
        "\n",
        "i1 = alt.Chart(source).mark_image(\n",
        "    align=\"left\",\n",
        "    baseline=\"top\",\n",
        "    width=128,\n",
        "    height=128,\n",
        "    clip=True\n",
        ").encode(\n",
        "    alt.X('x', \n",
        "          axis=None,\n",
        "          #axis=alt.Axis(values=[0, 128,256,128*3,128*4]), \n",
        "          scale=alt.Scale(type='linear', domain=[0, 128*4])),\n",
        "    alt.Y('y',axis=None),\n",
        "    url='img'\n",
        "     \n",
        ")"
      ],
      "execution_count": 176,
      "outputs": []
    },
    {
      "cell_type": "code",
      "metadata": {
        "id": "kK97NmbXIPvd",
        "colab_type": "code",
        "colab": {
          "base_uri": "https://localhost:8080/",
          "height": 34
        },
        "outputId": "f5db6abd-026a-4a61-8ebd-457ddd3aded7"
      },
      "source": [
        "from IPython.display import SVG\n",
        "\n",
        "svgjoy=b\"\"\"\n",
        "<svg width=\"300\" height=\"200\">\n",
        "<svg y=\"0\"><text dominant-baseline=\"text-after-edge\" font-size=\"20px\" x=\"0\" y=\"20\">jMyg</text></svg>\n",
        "<svg y=\"20\"><image width=\"128\" image-rendering=\"pixelated\" height=\"128\" x=\"0\" y=\"0\" href=\n",
        "\"\"\"+\\\n",
        "dataurl+\\\n",
        "b\"\"\"\n",
        "/></svg>\n",
        "\n",
        "</svg>\"\"\"\n",
        "\n",
        "display( SVG(svgjoy) )\n",
        "\n",
        "import svgwrite\n",
        "from svgwrite import rgb\n",
        "\n",
        "\n",
        "dataurl = (b'data:image/png;base64,'+base64.b64encode(png_bytes(np.identity(128)))).decode(\"utf-8\")\n",
        "mysvg = svgwrite.Drawing( size=(300 ,300) )\n",
        "mysvg.add(mysvg.image(x=0,y=30,href=dataurl))\n",
        "mysvg.add(mysvg.image(x=0+128,y=30,href=dataurl))\n",
        "mysvg.add(mysvg.text(\"some text\", text_anchor=\"middle\", insert=(64,30),font_size=12,dominant_baseline=\"text-after-edge\" ))\n",
        "mysvg.add(mysvg.text(\"some longer text\", text_anchor=\"middle\", insert=(128+64,30),font_size=12, dominant_baseline=\"text-after-edge\" ))\n",
        "display(SVG(mysvg.tostring()))"
      ],
      "execution_count": 177,
      "outputs": [
        {
          "output_type": "execute_result",
          "data": {
            "text/plain": [
              "384"
            ]
          },
          "metadata": {
            "tags": []
          },
          "execution_count": 177
        }
      ]
    },
    {
      "cell_type": "code",
      "metadata": {
        "id": "6sSC8jG1GQmp",
        "colab_type": "code",
        "colab": {
          "base_uri": "https://localhost:8080/",
          "height": 321
        },
        "outputId": "c0904b07-1d0d-42a5-bf2a-82835985a7ea"
      },
      "source": [
        "(i1).configure_axis(\n",
        "    grid=False\n",
        ").configure_view(\n",
        "    strokeWidth=0\n",
        ").properties(\n",
        "    width=128*4,\n",
        "    #height=128*1,\n",
        "    padding=0\n",
        ")"
      ],
      "execution_count": 182,
      "outputs": [
        {
          "output_type": "execute_result",
          "data": {
            "text/plain": [
              "alt.Chart(...)"
            ],
            "text/html": [
              "\n",
              "<div id=\"altair-viz-a7450250f4aa404a92094e468f439b9f\"></div>\n",
              "<script type=\"text/javascript\">\n",
              "  (function(spec, embedOpt){\n",
              "    let outputDiv = document.currentScript.previousElementSibling;\n",
              "    if (outputDiv.id !== \"altair-viz-a7450250f4aa404a92094e468f439b9f\") {\n",
              "      outputDiv = document.getElementById(\"altair-viz-a7450250f4aa404a92094e468f439b9f\");\n",
              "    }\n",
              "    const paths = {\n",
              "      \"vega\": \"https://cdn.jsdelivr.net/npm//vega@5?noext\",\n",
              "      \"vega-lib\": \"https://cdn.jsdelivr.net/npm//vega-lib?noext\",\n",
              "      \"vega-lite\": \"https://cdn.jsdelivr.net/npm//vega-lite@4.8.1?noext\",\n",
              "      \"vega-embed\": \"https://cdn.jsdelivr.net/npm//vega-embed@6?noext\",\n",
              "    };\n",
              "\n",
              "    function loadScript(lib) {\n",
              "      return new Promise(function(resolve, reject) {\n",
              "        var s = document.createElement('script');\n",
              "        s.src = paths[lib];\n",
              "        s.async = true;\n",
              "        s.onload = () => resolve(paths[lib]);\n",
              "        s.onerror = () => reject(`Error loading script: ${paths[lib]}`);\n",
              "        document.getElementsByTagName(\"head\")[0].appendChild(s);\n",
              "      });\n",
              "    }\n",
              "\n",
              "    function showError(err) {\n",
              "      outputDiv.innerHTML = `<div class=\"error\" style=\"color:red;\">${err}</div>`;\n",
              "      throw err;\n",
              "    }\n",
              "\n",
              "    function displayChart(vegaEmbed) {\n",
              "      vegaEmbed(outputDiv, spec, embedOpt)\n",
              "        .catch(err => showError(`Javascript Error: ${err.message}<br>This usually means there's a typo in your chart specification. See the javascript console for the full traceback.`));\n",
              "    }\n",
              "\n",
              "    if(typeof define === \"function\" && define.amd) {\n",
              "      requirejs.config({paths});\n",
              "      require([\"vega-embed\"], displayChart, err => showError(`Error loading script: ${err.message}`));\n",
              "    } else if (typeof vegaEmbed === \"function\") {\n",
              "      displayChart(vegaEmbed);\n",
              "    } else {\n",
              "      loadScript(\"vega\")\n",
              "        .then(() => loadScript(\"vega-lite\"))\n",
              "        .then(() => loadScript(\"vega-embed\"))\n",
              "        .catch(showError)\n",
              "        .then(() => displayChart(vegaEmbed));\n",
              "    }\n",
              "  })({\"config\": {\"view\": {\"continuousWidth\": 400, \"continuousHeight\": 300, \"strokeWidth\": 0}, \"axis\": {\"grid\": false}}, \"data\": {\"name\": \"data-6e4c6a90e5e89966aa633723cc6ae1cd\"}, \"mark\": {\"type\": \"image\", \"align\": \"left\", \"baseline\": \"top\", \"clip\": true, \"height\": 128, \"width\": 128}, \"encoding\": {\"url\": {\"type\": \"nominal\", \"field\": \"img\"}, \"x\": {\"type\": \"quantitative\", \"axis\": null, \"field\": \"x\", \"scale\": {\"domain\": [0, 512], \"type\": \"linear\"}}, \"y\": {\"type\": \"quantitative\", \"axis\": null, \"field\": \"y\"}}, \"padding\": 0, \"width\": 512, \"$schema\": \"https://vega.github.io/schema/vega-lite/v4.8.1.json\", \"datasets\": {\"data-6e4c6a90e5e89966aa633723cc6ae1cd\": [{\"x\": 0.0, \"y\": 0.0, \"img\": \"data:image/png;base64,iVBORw0KGgoAAAANSUhEUgAAAIAAAACACAAAAADmVT4XAAABzklEQVR4nMXbW1ICQRQE0bv/TbchCDJMv/tWpR8qP5UnDIVhOowo7EcUWBAFFkSBBfH+RAJIQVy+cABOELdvKAAliOq3DIARRPMBASAE0X3oB/gFt6BbcO+ZBZWcV1CrWQXVmFNQbxkFjZRP0CrZBM2QS9DumASdjEfQq1gE3YhD0G8YBIOEXjAqyAXDgFow3hcLJua1gpl1qWBqXCmY2xYKJqd1gtllmWB6WCWY3xUJFmY1gpVViWBpVCFY2xQIFifzBauL6YLlwWzB+l6yYGMuV7CzlirYGssU7G0lCjan8gS7S2mC7aEswf5OkuBgJkdwspIiOBrJEJxtJAgOJ84FpwvHAnwA/xniv0b4XxL+ZII/n+IvKfirKn5hgV9b4ZeX+BU2/iYDf5+Fv9XE323jNxzwey74bSf8zht+8xG//4rfgsbvwuMHEfhZDH4chZ/I4YeS+LksfjSNn86rAcOAHDAq6AGDhAHQbzgA3YgF0Kt4AJ2MCdDuuADNkA3QKvkAjZQRUG85AdWYFVCreQGVnBlw77kBt6Ad8F30A76SAODaJACXKAL4rDKAjywE+O9SgHcYA7zKHOAvDQKebRLwiKOA3zoLKPj/3pf4Ae2ZRDI2yuEZAAAAAElFTkSuQmCC\"}, {\"x\": 128.0, \"y\": 0.0, \"img\": \"data:image/png;base64,iVBORw0KGgoAAAANSUhEUgAAAIAAAACACAAAAADmVT4XAAAAWUlEQVR4nO3OIQEAAAACIJ973RkWWEB6FgEBAQEBAQEBAQEBAQEBAQEBAQEBAQEBAQEBAQEBAQEBAQEBAQEBAQEBAQEBAQEBAQEBAQEBAQEBAQEBAQEBgXdgQxTB0hEASUcAAAAASUVORK5CYII=\"}, {\"x\": 256.0, \"y\": 0.0, \"img\": \"data:image/png;base64,iVBORw0KGgoAAAANSUhEUgAAAIAAAACACAAAAADmVT4XAAABzklEQVR4nMXbW1ICQRQE0bv/TbchCDJMv/tWpR8qP5UnDIVhOowo7EcUWBAFFkSBBfH+RAJIQVy+cABOELdvKAAliOq3DIARRPMBASAE0X3oB/gFt6BbcO+ZBZWcV1CrWQXVmFNQbxkFjZRP0CrZBM2QS9DumASdjEfQq1gE3YhD0G8YBIOEXjAqyAXDgFow3hcLJua1gpl1qWBqXCmY2xYKJqd1gtllmWB6WCWY3xUJFmY1gpVViWBpVCFY2xQIFifzBauL6YLlwWzB+l6yYGMuV7CzlirYGssU7G0lCjan8gS7S2mC7aEswf5OkuBgJkdwspIiOBrJEJxtJAgOJ84FpwvHAnwA/xniv0b4XxL+ZII/n+IvKfirKn5hgV9b4ZeX+BU2/iYDf5+Fv9XE323jNxzwey74bSf8zht+8xG//4rfgsbvwuMHEfhZDH4chZ/I4YeS+LksfjSNn86rAcOAHDAq6AGDhAHQbzgA3YgF0Kt4AJ2MCdDuuADNkA3QKvkAjZQRUG85AdWYFVCreQGVnBlw77kBt6Ad8F30A76SAODaJACXKAL4rDKAjywE+O9SgHcYA7zKHOAvDQKebRLwiKOA3zoLKPj/3pf4Ae2ZRDI2yuEZAAAAAElFTkSuQmCC\"}, {\"x\": 384.0, \"y\": 0.0, \"img\": \"data:image/png;base64,iVBORw0KGgoAAAANSUhEUgAAAIAAAACACAAAAADmVT4XAAABzklEQVR4nMXbW1ICQRQE0bv/TbchCDJMv/tWpR8qP5UnDIVhOowo7EcUWBAFFkSBBfH+RAJIQVy+cABOELdvKAAliOq3DIARRPMBASAE0X3oB/gFt6BbcO+ZBZWcV1CrWQXVmFNQbxkFjZRP0CrZBM2QS9DumASdjEfQq1gE3YhD0G8YBIOEXjAqyAXDgFow3hcLJua1gpl1qWBqXCmY2xYKJqd1gtllmWB6WCWY3xUJFmY1gpVViWBpVCFY2xQIFifzBauL6YLlwWzB+l6yYGMuV7CzlirYGssU7G0lCjan8gS7S2mC7aEswf5OkuBgJkdwspIiOBrJEJxtJAgOJ84FpwvHAnwA/xniv0b4XxL+ZII/n+IvKfirKn5hgV9b4ZeX+BU2/iYDf5+Fv9XE323jNxzwey74bSf8zht+8xG//4rfgsbvwuMHEfhZDH4chZ/I4YeS+LksfjSNn86rAcOAHDAq6AGDhAHQbzgA3YgF0Kt4AJ2MCdDuuADNkA3QKvkAjZQRUG85AdWYFVCreQGVnBlw77kBt6Ad8F30A76SAODaJACXKAL4rDKAjywE+O9SgHcYA7zKHOAvDQKebRLwiKOA3zoLKPj/3pf4Ae2ZRDI2yuEZAAAAAElFTkSuQmCC\"}]}}, {\"renderer\": \"svg\", \"mode\": \"vega-lite\"});\n",
              "</script>"
            ]
          },
          "metadata": {
            "tags": []
          },
          "execution_count": 182
        }
      ]
    },
    {
      "cell_type": "code",
      "metadata": {
        "id": "bC9nuasUIyR-",
        "colab_type": "code",
        "colab": {
          "base_uri": "https://localhost:8080/",
          "height": 34
        },
        "outputId": "16bc426c-a991-4c94-eebf-73f750dd5721"
      },
      "source": [
        "alt.renderers.enable(\"colab\", embed_options={'renderer': 'svg'})\n"
      ],
      "execution_count": 180,
      "outputs": [
        {
          "output_type": "execute_result",
          "data": {
            "text/plain": [
              "RendererRegistry.enable('colab')"
            ]
          },
          "metadata": {
            "tags": []
          },
          "execution_count": 180
        }
      ]
    },
    {
      "cell_type": "code",
      "metadata": {
        "id": "5PIv-4F0FXAE",
        "colab_type": "code",
        "colab": {
          "base_uri": "https://localhost:8080/",
          "height": 149
        },
        "outputId": "85396863-f71d-4613-fb7d-2b7919f9b62f"
      },
      "source": [
        "(i1+i2).configure_axis(\n",
        "    grid=False\n",
        ").configure_view(\n",
        "    strokeWidth=2\n",
        ").properties(\n",
        "    width=128*3+100,\n",
        "    height=128*1,\n",
        "    padding=0\n",
        ")"
      ],
      "execution_count": 121,
      "outputs": [
        {
          "output_type": "execute_result",
          "data": {
            "text/plain": [
              "alt.LayerChart(...)"
            ],
            "text/html": [
              "\n",
              "<div id=\"altair-viz-8e42452448374339a318593a64b43896\"></div>\n",
              "<script type=\"text/javascript\">\n",
              "  (function(spec, embedOpt){\n",
              "    let outputDiv = document.currentScript.previousElementSibling;\n",
              "    if (outputDiv.id !== \"altair-viz-8e42452448374339a318593a64b43896\") {\n",
              "      outputDiv = document.getElementById(\"altair-viz-8e42452448374339a318593a64b43896\");\n",
              "    }\n",
              "    const paths = {\n",
              "      \"vega\": \"https://cdn.jsdelivr.net/npm//vega@5?noext\",\n",
              "      \"vega-lib\": \"https://cdn.jsdelivr.net/npm//vega-lib?noext\",\n",
              "      \"vega-lite\": \"https://cdn.jsdelivr.net/npm//vega-lite@4.8.1?noext\",\n",
              "      \"vega-embed\": \"https://cdn.jsdelivr.net/npm//vega-embed@6?noext\",\n",
              "    };\n",
              "\n",
              "    function loadScript(lib) {\n",
              "      return new Promise(function(resolve, reject) {\n",
              "        var s = document.createElement('script');\n",
              "        s.src = paths[lib];\n",
              "        s.async = true;\n",
              "        s.onload = () => resolve(paths[lib]);\n",
              "        s.onerror = () => reject(`Error loading script: ${paths[lib]}`);\n",
              "        document.getElementsByTagName(\"head\")[0].appendChild(s);\n",
              "      });\n",
              "    }\n",
              "\n",
              "    function showError(err) {\n",
              "      outputDiv.innerHTML = `<div class=\"error\" style=\"color:red;\">${err}</div>`;\n",
              "      throw err;\n",
              "    }\n",
              "\n",
              "    function displayChart(vegaEmbed) {\n",
              "      vegaEmbed(outputDiv, spec, embedOpt)\n",
              "        .catch(err => showError(`Javascript Error: ${err.message}<br>This usually means there's a typo in your chart specification. See the javascript console for the full traceback.`));\n",
              "    }\n",
              "\n",
              "    if(typeof define === \"function\" && define.amd) {\n",
              "      requirejs.config({paths});\n",
              "      require([\"vega-embed\"], displayChart, err => showError(`Error loading script: ${err.message}`));\n",
              "    } else if (typeof vegaEmbed === \"function\") {\n",
              "      displayChart(vegaEmbed);\n",
              "    } else {\n",
              "      loadScript(\"vega\")\n",
              "        .then(() => loadScript(\"vega-lite\"))\n",
              "        .then(() => loadScript(\"vega-embed\"))\n",
              "        .catch(showError)\n",
              "        .then(() => displayChart(vegaEmbed));\n",
              "    }\n",
              "  })({\"config\": {\"view\": {\"continuousWidth\": 400, \"continuousHeight\": 300, \"strokeWidth\": 2}, \"axis\": {\"grid\": false}}, \"layer\": [{\"mark\": {\"type\": \"image\", \"align\": \"left\", \"height\": 128, \"width\": 128}, \"encoding\": {\"url\": {\"type\": \"nominal\", \"field\": \"img\"}, \"x\": {\"type\": \"quantitative\", \"axis\": null, \"field\": \"x\", \"scale\": {\"domain\": [0, 384], \"type\": \"linear\"}}, \"y\": {\"type\": \"quantitative\", \"axis\": null, \"field\": \"y\"}}}, {\"mark\": {\"type\": \"point\", \"align\": \"left\", \"height\": 128, \"width\": 128}, \"encoding\": {\"url\": {\"type\": \"nominal\", \"field\": \"img\"}, \"x\": {\"type\": \"quantitative\", \"axis\": null, \"field\": \"x\", \"scale\": {\"domain\": [0, 384], \"type\": \"linear\"}}, \"y\": {\"type\": \"quantitative\", \"axis\": null, \"field\": \"y\"}}}], \"data\": {\"name\": \"data-3c5f043dfa02607440539f6b043cfc40\"}, \"height\": 128, \"padding\": 0, \"width\": 484, \"$schema\": \"https://vega.github.io/schema/vega-lite/v4.8.1.json\", \"datasets\": {\"data-3c5f043dfa02607440539f6b043cfc40\": [{\"x\": 0.0, \"y\": 0.0, \"img\": \"data:image/png;base64,iVBORw0KGgoAAAANSUhEUgAAAIAAAACACAAAAADmVT4XAAABzklEQVR4nMXbW1ICQRQE0bv/TbchCDJMv/tWpR8qP5UnDIVhOowo7EcUWBAFFkSBBfH+RAJIQVy+cABOELdvKAAliOq3DIARRPMBASAE0X3oB/gFt6BbcO+ZBZWcV1CrWQXVmFNQbxkFjZRP0CrZBM2QS9DumASdjEfQq1gE3YhD0G8YBIOEXjAqyAXDgFow3hcLJua1gpl1qWBqXCmY2xYKJqd1gtllmWB6WCWY3xUJFmY1gpVViWBpVCFY2xQIFifzBauL6YLlwWzB+l6yYGMuV7CzlirYGssU7G0lCjan8gS7S2mC7aEswf5OkuBgJkdwspIiOBrJEJxtJAgOJ84FpwvHAnwA/xniv0b4XxL+ZII/n+IvKfirKn5hgV9b4ZeX+BU2/iYDf5+Fv9XE323jNxzwey74bSf8zht+8xG//4rfgsbvwuMHEfhZDH4chZ/I4YeS+LksfjSNn86rAcOAHDAq6AGDhAHQbzgA3YgF0Kt4AJ2MCdDuuADNkA3QKvkAjZQRUG85AdWYFVCreQGVnBlw77kBt6Ad8F30A76SAODaJACXKAL4rDKAjywE+O9SgHcYA7zKHOAvDQKebRLwiKOA3zoLKPj/3pf4Ae2ZRDI2yuEZAAAAAElFTkSuQmCC\"}, {\"x\": 128.0, \"y\": 0.0, \"img\": \"data:image/png;base64,iVBORw0KGgoAAAANSUhEUgAAAIAAAACACAAAAADmVT4XAAAAWUlEQVR4nO3OIQEAAAACIJ973RkWWEB6FgEBAQEBAQEBAQEBAQEBAQEBAQEBAQEBAQEBAQEBAQEBAQEBAQEBAQEBAQEBAQEBAQEBAQEBAQEBAQEBAQEBgXdgQxTB0hEASUcAAAAASUVORK5CYII=\"}, {\"x\": 256.0, \"y\": 0.0, \"img\": \"data:image/png;base64,iVBORw0KGgoAAAANSUhEUgAAAIAAAACACAAAAADmVT4XAAABzklEQVR4nMXbW1ICQRQE0bv/TbchCDJMv/tWpR8qP5UnDIVhOowo7EcUWBAFFkSBBfH+RAJIQVy+cABOELdvKAAliOq3DIARRPMBASAE0X3oB/gFt6BbcO+ZBZWcV1CrWQXVmFNQbxkFjZRP0CrZBM2QS9DumASdjEfQq1gE3YhD0G8YBIOEXjAqyAXDgFow3hcLJua1gpl1qWBqXCmY2xYKJqd1gtllmWB6WCWY3xUJFmY1gpVViWBpVCFY2xQIFifzBauL6YLlwWzB+l6yYGMuV7CzlirYGssU7G0lCjan8gS7S2mC7aEswf5OkuBgJkdwspIiOBrJEJxtJAgOJ84FpwvHAnwA/xniv0b4XxL+ZII/n+IvKfirKn5hgV9b4ZeX+BU2/iYDf5+Fv9XE323jNxzwey74bSf8zht+8xG//4rfgsbvwuMHEfhZDH4chZ/I4YeS+LksfjSNn86rAcOAHDAq6AGDhAHQbzgA3YgF0Kt4AJ2MCdDuuADNkA3QKvkAjZQRUG85AdWYFVCreQGVnBlw77kBt6Ad8F30A76SAODaJACXKAL4rDKAjywE+O9SgHcYA7zKHOAvDQKebRLwiKOA3zoLKPj/3pf4Ae2ZRDI2yuEZAAAAAElFTkSuQmCC\"}]}}, {\"mode\": \"vega-lite\"});\n",
              "</script>"
            ]
          },
          "metadata": {
            "tags": []
          },
          "execution_count": 121
        }
      ]
    },
    {
      "cell_type": "markdown",
      "metadata": {
        "id": "t2e9jD1NIj8u",
        "colab_type": "text"
      },
      "source": [
        ""
      ]
    },
    {
      "cell_type": "code",
      "metadata": {
        "id": "_gL6rvLuFeY5",
        "colab_type": "code",
        "colab": {
          "base_uri": "https://localhost:8080/",
          "height": 149
        },
        "outputId": "faa56e25-63e5-45c9-bf9b-f3201ee872db"
      },
      "source": [
        "(i1+i2).configure_axis(\n",
        "    grid=False\n",
        ").configure_view(\n",
        "    strokeWidth=0\n",
        ").properties(\n",
        "    width=128*3+15,\n",
        "    height=128*1,\n",
        "    padding=0\n",
        ")"
      ],
      "execution_count": 115,
      "outputs": [
        {
          "output_type": "execute_result",
          "data": {
            "text/plain": [
              "alt.LayerChart(...)"
            ],
            "text/html": [
              "\n",
              "<div id=\"altair-viz-961fc8d243af4e52b13c5c941fbe9adc\"></div>\n",
              "<script type=\"text/javascript\">\n",
              "  (function(spec, embedOpt){\n",
              "    let outputDiv = document.currentScript.previousElementSibling;\n",
              "    if (outputDiv.id !== \"altair-viz-961fc8d243af4e52b13c5c941fbe9adc\") {\n",
              "      outputDiv = document.getElementById(\"altair-viz-961fc8d243af4e52b13c5c941fbe9adc\");\n",
              "    }\n",
              "    const paths = {\n",
              "      \"vega\": \"https://cdn.jsdelivr.net/npm//vega@5?noext\",\n",
              "      \"vega-lib\": \"https://cdn.jsdelivr.net/npm//vega-lib?noext\",\n",
              "      \"vega-lite\": \"https://cdn.jsdelivr.net/npm//vega-lite@4.8.1?noext\",\n",
              "      \"vega-embed\": \"https://cdn.jsdelivr.net/npm//vega-embed@6?noext\",\n",
              "    };\n",
              "\n",
              "    function loadScript(lib) {\n",
              "      return new Promise(function(resolve, reject) {\n",
              "        var s = document.createElement('script');\n",
              "        s.src = paths[lib];\n",
              "        s.async = true;\n",
              "        s.onload = () => resolve(paths[lib]);\n",
              "        s.onerror = () => reject(`Error loading script: ${paths[lib]}`);\n",
              "        document.getElementsByTagName(\"head\")[0].appendChild(s);\n",
              "      });\n",
              "    }\n",
              "\n",
              "    function showError(err) {\n",
              "      outputDiv.innerHTML = `<div class=\"error\" style=\"color:red;\">${err}</div>`;\n",
              "      throw err;\n",
              "    }\n",
              "\n",
              "    function displayChart(vegaEmbed) {\n",
              "      vegaEmbed(outputDiv, spec, embedOpt)\n",
              "        .catch(err => showError(`Javascript Error: ${err.message}<br>This usually means there's a typo in your chart specification. See the javascript console for the full traceback.`));\n",
              "    }\n",
              "\n",
              "    if(typeof define === \"function\" && define.amd) {\n",
              "      requirejs.config({paths});\n",
              "      require([\"vega-embed\"], displayChart, err => showError(`Error loading script: ${err.message}`));\n",
              "    } else if (typeof vegaEmbed === \"function\") {\n",
              "      displayChart(vegaEmbed);\n",
              "    } else {\n",
              "      loadScript(\"vega\")\n",
              "        .then(() => loadScript(\"vega-lite\"))\n",
              "        .then(() => loadScript(\"vega-embed\"))\n",
              "        .catch(showError)\n",
              "        .then(() => displayChart(vegaEmbed));\n",
              "    }\n",
              "  })({\"config\": {\"view\": {\"continuousWidth\": 400, \"continuousHeight\": 300, \"strokeWidth\": 0}, \"axis\": {\"grid\": false}}, \"layer\": [{\"mark\": {\"type\": \"image\", \"align\": \"left\", \"height\": 128, \"width\": 128}, \"encoding\": {\"url\": {\"type\": \"nominal\", \"field\": \"img\"}, \"x\": {\"type\": \"quantitative\", \"axis\": null, \"field\": \"x\", \"scale\": {\"domain\": [0, 384], \"type\": \"linear\"}}, \"y\": {\"type\": \"quantitative\", \"axis\": null, \"field\": \"y\"}}}, {\"mark\": {\"type\": \"point\", \"align\": \"left\", \"height\": 128, \"width\": 128}, \"encoding\": {\"url\": {\"type\": \"nominal\", \"field\": \"img\"}, \"x\": {\"type\": \"quantitative\", \"axis\": null, \"field\": \"x\", \"scale\": {\"domain\": [0, 384], \"type\": \"linear\"}}, \"y\": {\"type\": \"quantitative\", \"axis\": null, \"field\": \"y\"}}}], \"data\": {\"name\": \"data-3c5f043dfa02607440539f6b043cfc40\"}, \"height\": 128, \"padding\": 0, \"width\": 399, \"$schema\": \"https://vega.github.io/schema/vega-lite/v4.8.1.json\", \"datasets\": {\"data-3c5f043dfa02607440539f6b043cfc40\": [{\"x\": 0.0, \"y\": 0.0, \"img\": \"data:image/png;base64,iVBORw0KGgoAAAANSUhEUgAAAIAAAACACAAAAADmVT4XAAABzklEQVR4nMXbW1ICQRQE0bv/TbchCDJMv/tWpR8qP5UnDIVhOowo7EcUWBAFFkSBBfH+RAJIQVy+cABOELdvKAAliOq3DIARRPMBASAE0X3oB/gFt6BbcO+ZBZWcV1CrWQXVmFNQbxkFjZRP0CrZBM2QS9DumASdjEfQq1gE3YhD0G8YBIOEXjAqyAXDgFow3hcLJua1gpl1qWBqXCmY2xYKJqd1gtllmWB6WCWY3xUJFmY1gpVViWBpVCFY2xQIFifzBauL6YLlwWzB+l6yYGMuV7CzlirYGssU7G0lCjan8gS7S2mC7aEswf5OkuBgJkdwspIiOBrJEJxtJAgOJ84FpwvHAnwA/xniv0b4XxL+ZII/n+IvKfirKn5hgV9b4ZeX+BU2/iYDf5+Fv9XE323jNxzwey74bSf8zht+8xG//4rfgsbvwuMHEfhZDH4chZ/I4YeS+LksfjSNn86rAcOAHDAq6AGDhAHQbzgA3YgF0Kt4AJ2MCdDuuADNkA3QKvkAjZQRUG85AdWYFVCreQGVnBlw77kBt6Ad8F30A76SAODaJACXKAL4rDKAjywE+O9SgHcYA7zKHOAvDQKebRLwiKOA3zoLKPj/3pf4Ae2ZRDI2yuEZAAAAAElFTkSuQmCC\"}, {\"x\": 128.0, \"y\": 0.0, \"img\": \"data:image/png;base64,iVBORw0KGgoAAAANSUhEUgAAAIAAAACACAAAAADmVT4XAAAAWUlEQVR4nO3OIQEAAAACIJ973RkWWEB6FgEBAQEBAQEBAQEBAQEBAQEBAQEBAQEBAQEBAQEBAQEBAQEBAQEBAQEBAQEBAQEBAQEBAQEBAQEBAQEBAQEBgXdgQxTB0hEASUcAAAAASUVORK5CYII=\"}, {\"x\": 256.0, \"y\": 0.0, \"img\": \"data:image/png;base64,iVBORw0KGgoAAAANSUhEUgAAAIAAAACACAAAAADmVT4XAAABzklEQVR4nMXbW1ICQRQE0bv/TbchCDJMv/tWpR8qP5UnDIVhOowo7EcUWBAFFkSBBfH+RAJIQVy+cABOELdvKAAliOq3DIARRPMBASAE0X3oB/gFt6BbcO+ZBZWcV1CrWQXVmFNQbxkFjZRP0CrZBM2QS9DumASdjEfQq1gE3YhD0G8YBIOEXjAqyAXDgFow3hcLJua1gpl1qWBqXCmY2xYKJqd1gtllmWB6WCWY3xUJFmY1gpVViWBpVCFY2xQIFifzBauL6YLlwWzB+l6yYGMuV7CzlirYGssU7G0lCjan8gS7S2mC7aEswf5OkuBgJkdwspIiOBrJEJxtJAgOJ84FpwvHAnwA/xniv0b4XxL+ZII/n+IvKfirKn5hgV9b4ZeX+BU2/iYDf5+Fv9XE323jNxzwey74bSf8zht+8xG//4rfgsbvwuMHEfhZDH4chZ/I4YeS+LksfjSNn86rAcOAHDAq6AGDhAHQbzgA3YgF0Kt4AJ2MCdDuuADNkA3QKvkAjZQRUG85AdWYFVCreQGVnBlw77kBt6Ad8F30A76SAODaJACXKAL4rDKAjywE+O9SgHcYA7zKHOAvDQKebRLwiKOA3zoLKPj/3pf4Ae2ZRDI2yuEZAAAAAElFTkSuQmCC\"}]}}, {\"mode\": \"vega-lite\"});\n",
              "</script>"
            ]
          },
          "metadata": {
            "tags": []
          },
          "execution_count": 115
        }
      ]
    },
    {
      "cell_type": "code",
      "metadata": {
        "id": "8kDyFL_qF5bi",
        "colab_type": "code",
        "colab": {}
      },
      "source": [
        ""
      ],
      "execution_count": null,
      "outputs": []
    }
  ]
}