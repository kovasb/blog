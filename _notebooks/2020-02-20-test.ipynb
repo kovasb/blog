{
  "nbformat": 4,
  "nbformat_minor": 0,
  "metadata": {
    "kernelspec": {
      "display_name": "Python 3",
      "language": "python",
      "name": "python3"
    },
    "language_info": {
      "codemirror_mode": {
        "name": "ipython",
        "version": 3
      },
      "file_extension": ".py",
      "mimetype": "text/x-python",
      "name": "python",
      "nbconvert_exporter": "python",
      "pygments_lexer": "ipython3",
      "version": "3.6.7"
    },
    "varInspector": {
      "cols": {
        "lenName": 16,
        "lenType": 16,
        "lenVar": 40
      },
      "kernels_config": {
        "python": {
          "delete_cmd_postfix": "",
          "delete_cmd_prefix": "del ",
          "library": "var_list.py",
          "varRefreshCmd": "print(var_dic_list())"
        },
        "r": {
          "delete_cmd_postfix": ") ",
          "delete_cmd_prefix": "rm(",
          "library": "var_list.r",
          "varRefreshCmd": "cat(var_dic_list()) "
        }
      },
      "types_to_exclude": [
        "module",
        "function",
        "builtin_function_or_method",
        "instance",
        "_Feature"
      ],
      "window_display": false
    },
    "colab": {
      "name": "2020-02-20-test.ipynb",
      "provenance": []
    }
  },
  "cells": [
    {
      "cell_type": "markdown",
      "metadata": {
        "id": "ADXq_QDAxhMk",
        "colab_type": "text"
      },
      "source": [
        "# Gongoritasaur Fastpages Notebook Blog Post\n",
        "> A tutorial of fastpages for Jupyter notebooks.\n",
        "\n",
        "- toc: true \n",
        "- badges: true\n",
        "- comments: true\n",
        "- categories: [jupyter]\n",
        "- image: images/chart-preview.png"
      ]
    },
    {
      "cell_type": "code",
      "metadata": {
        "id": "e-Heej2e3Q7c",
        "colab_type": "code",
        "colab": {
          "base_uri": "https://localhost:8080/",
          "height": 187
        },
        "outputId": "ae573c52-780c-43a3-e217-df46a81a03be"
      },
      "source": [
        "!pip install pypng"
      ],
      "execution_count": 10,
      "outputs": [
        {
          "output_type": "stream",
          "text": [
            "Collecting pypng\n",
            "\u001b[?25l  Downloading https://files.pythonhosted.org/packages/bc/fb/f719f1ac965e2101aa6ea6f54ef8b40f8fbb033f6ad07c017663467f5147/pypng-0.0.20.tar.gz (649kB)\n",
            "\r\u001b[K     |▌                               | 10kB 16.3MB/s eta 0:00:01\r\u001b[K     |█                               | 20kB 1.7MB/s eta 0:00:01\r\u001b[K     |█▌                              | 30kB 2.3MB/s eta 0:00:01\r\u001b[K     |██                              | 40kB 2.6MB/s eta 0:00:01\r\u001b[K     |██▌                             | 51kB 2.0MB/s eta 0:00:01\r\u001b[K     |███                             | 61kB 2.3MB/s eta 0:00:01\r\u001b[K     |███▌                            | 71kB 2.5MB/s eta 0:00:01\r\u001b[K     |████                            | 81kB 2.7MB/s eta 0:00:01\r\u001b[K     |████▌                           | 92kB 2.9MB/s eta 0:00:01\r\u001b[K     |█████                           | 102kB 2.8MB/s eta 0:00:01\r\u001b[K     |█████▌                          | 112kB 2.8MB/s eta 0:00:01\r\u001b[K     |██████                          | 122kB 2.8MB/s eta 0:00:01\r\u001b[K     |██████▋                         | 133kB 2.8MB/s eta 0:00:01\r\u001b[K     |███████                         | 143kB 2.8MB/s eta 0:00:01\r\u001b[K     |███████▋                        | 153kB 2.8MB/s eta 0:00:01\r\u001b[K     |████████                        | 163kB 2.8MB/s eta 0:00:01\r\u001b[K     |████████▋                       | 174kB 2.8MB/s eta 0:00:01\r\u001b[K     |█████████                       | 184kB 2.8MB/s eta 0:00:01\r\u001b[K     |█████████▋                      | 194kB 2.8MB/s eta 0:00:01\r\u001b[K     |██████████                      | 204kB 2.8MB/s eta 0:00:01\r\u001b[K     |██████████▋                     | 215kB 2.8MB/s eta 0:00:01\r\u001b[K     |███████████                     | 225kB 2.8MB/s eta 0:00:01\r\u001b[K     |███████████▋                    | 235kB 2.8MB/s eta 0:00:01\r\u001b[K     |████████████                    | 245kB 2.8MB/s eta 0:00:01\r\u001b[K     |████████████▋                   | 256kB 2.8MB/s eta 0:00:01\r\u001b[K     |█████████████▏                  | 266kB 2.8MB/s eta 0:00:01\r\u001b[K     |█████████████▋                  | 276kB 2.8MB/s eta 0:00:01\r\u001b[K     |██████████████▏                 | 286kB 2.8MB/s eta 0:00:01\r\u001b[K     |██████████████▋                 | 296kB 2.8MB/s eta 0:00:01\r\u001b[K     |███████████████▏                | 307kB 2.8MB/s eta 0:00:01\r\u001b[K     |███████████████▋                | 317kB 2.8MB/s eta 0:00:01\r\u001b[K     |████████████████▏               | 327kB 2.8MB/s eta 0:00:01\r\u001b[K     |████████████████▋               | 337kB 2.8MB/s eta 0:00:01\r\u001b[K     |█████████████████▏              | 348kB 2.8MB/s eta 0:00:01\r\u001b[K     |█████████████████▋              | 358kB 2.8MB/s eta 0:00:01\r\u001b[K     |██████████████████▏             | 368kB 2.8MB/s eta 0:00:01\r\u001b[K     |██████████████████▋             | 378kB 2.8MB/s eta 0:00:01\r\u001b[K     |███████████████████▏            | 389kB 2.8MB/s eta 0:00:01\r\u001b[K     |███████████████████▊            | 399kB 2.8MB/s eta 0:00:01\r\u001b[K     |████████████████████▏           | 409kB 2.8MB/s eta 0:00:01\r\u001b[K     |████████████████████▊           | 419kB 2.8MB/s eta 0:00:01\r\u001b[K     |█████████████████████▏          | 430kB 2.8MB/s eta 0:00:01\r\u001b[K     |█████████████████████▊          | 440kB 2.8MB/s eta 0:00:01\r\u001b[K     |██████████████████████▏         | 450kB 2.8MB/s eta 0:00:01\r\u001b[K     |██████████████████████▊         | 460kB 2.8MB/s eta 0:00:01\r\u001b[K     |███████████████████████▏        | 471kB 2.8MB/s eta 0:00:01\r\u001b[K     |███████████████████████▊        | 481kB 2.8MB/s eta 0:00:01\r\u001b[K     |████████████████████████▏       | 491kB 2.8MB/s eta 0:00:01\r\u001b[K     |████████████████████████▊       | 501kB 2.8MB/s eta 0:00:01\r\u001b[K     |█████████████████████████▎      | 512kB 2.8MB/s eta 0:00:01\r\u001b[K     |█████████████████████████▊      | 522kB 2.8MB/s eta 0:00:01\r\u001b[K     |██████████████████████████▎     | 532kB 2.8MB/s eta 0:00:01\r\u001b[K     |██████████████████████████▊     | 542kB 2.8MB/s eta 0:00:01\r\u001b[K     |███████████████████████████▎    | 552kB 2.8MB/s eta 0:00:01\r\u001b[K     |███████████████████████████▊    | 563kB 2.8MB/s eta 0:00:01\r\u001b[K     |████████████████████████████▎   | 573kB 2.8MB/s eta 0:00:01\r\u001b[K     |████████████████████████████▊   | 583kB 2.8MB/s eta 0:00:01\r\u001b[K     |█████████████████████████████▎  | 593kB 2.8MB/s eta 0:00:01\r\u001b[K     |█████████████████████████████▊  | 604kB 2.8MB/s eta 0:00:01\r\u001b[K     |██████████████████████████████▎ | 614kB 2.8MB/s eta 0:00:01\r\u001b[K     |██████████████████████████████▊ | 624kB 2.8MB/s eta 0:00:01\r\u001b[K     |███████████████████████████████▎| 634kB 2.8MB/s eta 0:00:01\r\u001b[K     |███████████████████████████████▉| 645kB 2.8MB/s eta 0:00:01\r\u001b[K     |████████████████████████████████| 655kB 2.8MB/s \n",
            "\u001b[?25hBuilding wheels for collected packages: pypng\n",
            "  Building wheel for pypng (setup.py) ... \u001b[?25l\u001b[?25hdone\n",
            "  Created wheel for pypng: filename=pypng-0.0.20-cp36-none-any.whl size=67161 sha256=006a66b44bd233d6a40cc47b6738b755c4513aa7f8f1952d3cd06d802eea73b7\n",
            "  Stored in directory: /root/.cache/pip/wheels/41/6b/ef/0493b536b6d4722c2ae9486691b1d49b922b9877922beeabb3\n",
            "Successfully built pypng\n",
            "Installing collected packages: pypng\n",
            "Successfully installed pypng-0.0.20\n"
          ],
          "name": "stdout"
        }
      ]
    },
    {
      "cell_type": "code",
      "metadata": {
        "id": "iFi54dDY3GHl",
        "colab_type": "code",
        "colab": {}
      },
      "source": [
        "import png"
      ],
      "execution_count": 11,
      "outputs": []
    },
    {
      "cell_type": "code",
      "metadata": {
        "id": "8ngzqRDB27ef",
        "colab_type": "code",
        "colab": {}
      },
      "source": [
        "import io\n",
        "import numpy as np\n",
        "import png\n",
        "def png_bytes(a):\n",
        "    output = io.BytesIO()\n",
        "    b = (1 - a)\n",
        "    png.from_array(b.astype(np.uint8)*255, 'L').write(output)\n",
        "    return output.getvalue()"
      ],
      "execution_count": 12,
      "outputs": []
    },
    {
      "cell_type": "code",
      "metadata": {
        "id": "39SITTOE2w3F",
        "colab_type": "code",
        "colab": {}
      },
      "source": [
        "import base64\n",
        "dataurl = b'data:image/png;base64,'+base64.b64encode(png_bytes(np.identity(128)))\n",
        "#dataurl = b'\"'+dataurl + b'\"'"
      ],
      "execution_count": 17,
      "outputs": []
    },
    {
      "cell_type": "code",
      "metadata": {
        "id": "l-oHrdzI3bAq",
        "colab_type": "code",
        "colab": {
          "base_uri": "https://localhost:8080/",
          "height": 54
        },
        "outputId": "942009fc-75a5-4930-bed5-7ff47c26f527"
      },
      "source": [
        "dataurl"
      ],
      "execution_count": 18,
      "outputs": [
        {
          "output_type": "execute_result",
          "data": {
            "text/plain": [
              "b'data:image/png;base64,iVBORw0KGgoAAAANSUhEUgAAAIAAAACACAAAAADmVT4XAAABzklEQVR4nMXbW1ICQRQE0bv/TbchCDJMv/tWpR8qP5UnDIVhOowo7EcUWBAFFkSBBfH+RAJIQVy+cABOELdvKAAliOq3DIARRPMBASAE0X3oB/gFt6BbcO+ZBZWcV1CrWQXVmFNQbxkFjZRP0CrZBM2QS9DumASdjEfQq1gE3YhD0G8YBIOEXjAqyAXDgFow3hcLJua1gpl1qWBqXCmY2xYKJqd1gtllmWB6WCWY3xUJFmY1gpVViWBpVCFY2xQIFifzBauL6YLlwWzB+l6yYGMuV7CzlirYGssU7G0lCjan8gS7S2mC7aEswf5OkuBgJkdwspIiOBrJEJxtJAgOJ84FpwvHAnwA/xniv0b4XxL+ZII/n+IvKfirKn5hgV9b4ZeX+BU2/iYDf5+Fv9XE323jNxzwey74bSf8zht+8xG//4rfgsbvwuMHEfhZDH4chZ/I4YeS+LksfjSNn86rAcOAHDAq6AGDhAHQbzgA3YgF0Kt4AJ2MCdDuuADNkA3QKvkAjZQRUG85AdWYFVCreQGVnBlw77kBt6Ad8F30A76SAODaJACXKAL4rDKAjywE+O9SgHcYA7zKHOAvDQKebRLwiKOA3zoLKPj/3pf4Ae2ZRDI2yuEZAAAAAElFTkSuQmCC'"
            ]
          },
          "metadata": {
            "tags": []
          },
          "execution_count": 18
        }
      ]
    },
    {
      "cell_type": "code",
      "metadata": {
        "id": "wZZ3HWWU2FgB",
        "colab_type": "code",
        "colab": {
          "base_uri": "https://localhost:8080/",
          "height": 416
        },
        "outputId": "93464c11-33e1-409a-cace-2b82e84b9069"
      },
      "source": [
        "import altair as alt\n",
        "import pandas as pd\n",
        "\n",
        "source = pd.DataFrame.from_records([\n",
        "      {\"x\": 0.5, \"y\": 0.5, \"img\": dataurl.decode(\"utf-8\")},\n",
        "      {\"x\": 1.5, \"y\": 1.5, \"img\": \"https://vega.github.io/vega-datasets/data/gimp.png\"},\n",
        "      {\"x\": 2.5, \"y\": 2.5, \"img\": \"https://vega.github.io/vega-datasets/data/7zip.png\"}\n",
        "])\n",
        "\n",
        "alt.Chart(source).mark_image(\n",
        "    width=128,\n",
        "    height=128\n",
        ").encode(\n",
        "    x='x',\n",
        "    y='y',\n",
        "    url='img'\n",
        ")"
      ],
      "execution_count": 22,
      "outputs": [
        {
          "output_type": "execute_result",
          "data": {
            "text/plain": [
              "alt.Chart(...)"
            ],
            "text/html": [
              "\n",
              "<div id=\"altair-viz-f8882605583b4a28b51cb00d212296bd\"></div>\n",
              "<script type=\"text/javascript\">\n",
              "  (function(spec, embedOpt){\n",
              "    let outputDiv = document.currentScript.previousElementSibling;\n",
              "    if (outputDiv.id !== \"altair-viz-f8882605583b4a28b51cb00d212296bd\") {\n",
              "      outputDiv = document.getElementById(\"altair-viz-f8882605583b4a28b51cb00d212296bd\");\n",
              "    }\n",
              "    const paths = {\n",
              "      \"vega\": \"https://cdn.jsdelivr.net/npm//vega@5?noext\",\n",
              "      \"vega-lib\": \"https://cdn.jsdelivr.net/npm//vega-lib?noext\",\n",
              "      \"vega-lite\": \"https://cdn.jsdelivr.net/npm//vega-lite@4.8.1?noext\",\n",
              "      \"vega-embed\": \"https://cdn.jsdelivr.net/npm//vega-embed@6?noext\",\n",
              "    };\n",
              "\n",
              "    function loadScript(lib) {\n",
              "      return new Promise(function(resolve, reject) {\n",
              "        var s = document.createElement('script');\n",
              "        s.src = paths[lib];\n",
              "        s.async = true;\n",
              "        s.onload = () => resolve(paths[lib]);\n",
              "        s.onerror = () => reject(`Error loading script: ${paths[lib]}`);\n",
              "        document.getElementsByTagName(\"head\")[0].appendChild(s);\n",
              "      });\n",
              "    }\n",
              "\n",
              "    function showError(err) {\n",
              "      outputDiv.innerHTML = `<div class=\"error\" style=\"color:red;\">${err}</div>`;\n",
              "      throw err;\n",
              "    }\n",
              "\n",
              "    function displayChart(vegaEmbed) {\n",
              "      vegaEmbed(outputDiv, spec, embedOpt)\n",
              "        .catch(err => showError(`Javascript Error: ${err.message}<br>This usually means there's a typo in your chart specification. See the javascript console for the full traceback.`));\n",
              "    }\n",
              "\n",
              "    if(typeof define === \"function\" && define.amd) {\n",
              "      requirejs.config({paths});\n",
              "      require([\"vega-embed\"], displayChart, err => showError(`Error loading script: ${err.message}`));\n",
              "    } else if (typeof vegaEmbed === \"function\") {\n",
              "      displayChart(vegaEmbed);\n",
              "    } else {\n",
              "      loadScript(\"vega\")\n",
              "        .then(() => loadScript(\"vega-lite\"))\n",
              "        .then(() => loadScript(\"vega-embed\"))\n",
              "        .catch(showError)\n",
              "        .then(() => displayChart(vegaEmbed));\n",
              "    }\n",
              "  })({\"config\": {\"view\": {\"continuousWidth\": 400, \"continuousHeight\": 300}}, \"data\": {\"name\": \"data-bd20a103d897013ef96f6eb7e80502a9\"}, \"mark\": {\"type\": \"image\", \"height\": 128, \"width\": 128}, \"encoding\": {\"url\": {\"type\": \"nominal\", \"field\": \"img\"}, \"x\": {\"type\": \"quantitative\", \"field\": \"x\"}, \"y\": {\"type\": \"quantitative\", \"field\": \"y\"}}, \"$schema\": \"https://vega.github.io/schema/vega-lite/v4.8.1.json\", \"datasets\": {\"data-bd20a103d897013ef96f6eb7e80502a9\": [{\"x\": 0.5, \"y\": 0.5, \"img\": \"data:image/png;base64,iVBORw0KGgoAAAANSUhEUgAAAIAAAACACAAAAADmVT4XAAABzklEQVR4nMXbW1ICQRQE0bv/TbchCDJMv/tWpR8qP5UnDIVhOowo7EcUWBAFFkSBBfH+RAJIQVy+cABOELdvKAAliOq3DIARRPMBASAE0X3oB/gFt6BbcO+ZBZWcV1CrWQXVmFNQbxkFjZRP0CrZBM2QS9DumASdjEfQq1gE3YhD0G8YBIOEXjAqyAXDgFow3hcLJua1gpl1qWBqXCmY2xYKJqd1gtllmWB6WCWY3xUJFmY1gpVViWBpVCFY2xQIFifzBauL6YLlwWzB+l6yYGMuV7CzlirYGssU7G0lCjan8gS7S2mC7aEswf5OkuBgJkdwspIiOBrJEJxtJAgOJ84FpwvHAnwA/xniv0b4XxL+ZII/n+IvKfirKn5hgV9b4ZeX+BU2/iYDf5+Fv9XE323jNxzwey74bSf8zht+8xG//4rfgsbvwuMHEfhZDH4chZ/I4YeS+LksfjSNn86rAcOAHDAq6AGDhAHQbzgA3YgF0Kt4AJ2MCdDuuADNkA3QKvkAjZQRUG85AdWYFVCreQGVnBlw77kBt6Ad8F30A76SAODaJACXKAL4rDKAjywE+O9SgHcYA7zKHOAvDQKebRLwiKOA3zoLKPj/3pf4Ae2ZRDI2yuEZAAAAAElFTkSuQmCC\"}, {\"x\": 1.5, \"y\": 1.5, \"img\": \"https://vega.github.io/vega-datasets/data/gimp.png\"}, {\"x\": 2.5, \"y\": 2.5, \"img\": \"https://vega.github.io/vega-datasets/data/7zip.png\"}]}}, {\"mode\": \"vega-lite\"});\n",
              "</script>"
            ]
          },
          "metadata": {
            "tags": []
          },
          "execution_count": 22
        }
      ]
    },
    {
      "cell_type": "markdown",
      "metadata": {
        "id": "KamiXRrbxhMk",
        "colab_type": "text"
      },
      "source": [
        "# About\n",
        "\n",
        "This notebook is a demonstration of some of capabilities of [fastpages](https://github.com/fastai/fastpages) with notebooks.\n",
        "\n",
        "\n",
        "With `fastpages` you can save your jupyter notebooks into the `_notebooks` folder at the root of your repository, and they will be automatically be converted to Jekyll compliant blog posts!\n"
      ]
    },
    {
      "cell_type": "markdown",
      "metadata": {
        "id": "wWNVO5G7xhMl",
        "colab_type": "text"
      },
      "source": [
        "## Front Matter\n",
        "\n",
        "The first cell in your Jupyter Notebook or markdown blog post contains front matter. Front matter is metadata that can turn on/off options in your Notebook. It is formatted like this:\n",
        "\n",
        "```\n",
        "# \"My Title\"\n",
        "> \"Awesome summary\"\n",
        "\n",
        "- toc: true- branch: master- badges: true\n",
        "- comments: true\n",
        "- author: Hamel Husain & Jeremy Howard\n",
        "- categories: [fastpages, jupyter]\n",
        "```\n",
        "\n",
        "- Setting `toc: true` will automatically generate a table of contents\n",
        "- Setting `badges: true` will automatically include GitHub and Google Colab links to your notebook.\n",
        "- Setting `comments: true` will enable commenting on your blog post, powered by [utterances](https://github.com/utterance/utterances).\n",
        "\n",
        "The title and description need to be enclosed in double quotes only if they include special characters such as a colon. More details and options for front matter can be viewed on the [front matter section](https://github.com/fastai/fastpages#front-matter-related-options) of the README."
      ]
    },
    {
      "cell_type": "markdown",
      "metadata": {
        "id": "Cxx6zU2gxhMl",
        "colab_type": "text"
      },
      "source": [
        "## Markdown Shortcuts"
      ]
    },
    {
      "cell_type": "markdown",
      "metadata": {
        "id": "kpHr48ebxhMm",
        "colab_type": "text"
      },
      "source": [
        "A `#hide` comment at the top of any code cell will hide **both the input and output** of that cell in your blog post.\n",
        "\n",
        "A `#hide_input` comment at the top of any code cell will **only hide the input** of that cell."
      ]
    },
    {
      "cell_type": "code",
      "metadata": {
        "id": "Pv8lbJt2xhMm",
        "colab_type": "code",
        "colab": {},
        "outputId": "32c957f8-a559-408d-d0dd-c558271c9944"
      },
      "source": [
        "#hide_input\n",
        "print('The comment #hide_input was used to hide the code that produced this.')"
      ],
      "execution_count": null,
      "outputs": [
        {
          "output_type": "stream",
          "text": [
            "The comment #hide_input was used to hide the code that produced this.\n"
          ],
          "name": "stdout"
        }
      ]
    },
    {
      "cell_type": "markdown",
      "metadata": {
        "id": "4Tbuy54FxhMq",
        "colab_type": "text"
      },
      "source": [
        "put a `#collapse-hide` flag at the top of any cell if you want to **hide** that cell by default, but give the reader the option to show it:"
      ]
    },
    {
      "cell_type": "code",
      "metadata": {
        "id": "XzeoNS7vxhMr",
        "colab_type": "code",
        "colab": {}
      },
      "source": [
        "#collapse-hide\n",
        "import pandas as pd\n",
        "import altair as alt"
      ],
      "execution_count": null,
      "outputs": []
    },
    {
      "cell_type": "markdown",
      "metadata": {
        "id": "DQZhzFnPxhMu",
        "colab_type": "text"
      },
      "source": [
        "put a `#collapse-show` flag at the top of any cell if you want to **show** that cell by default, but give the reader the option to hide it:"
      ]
    },
    {
      "cell_type": "code",
      "metadata": {
        "id": "QjAKB3GtxhMu",
        "colab_type": "code",
        "colab": {}
      },
      "source": [
        "#collapse-show\n",
        "cars = 'https://vega.github.io/vega-datasets/data/cars.json'\n",
        "movies = 'https://vega.github.io/vega-datasets/data/movies.json'\n",
        "sp500 = 'https://vega.github.io/vega-datasets/data/sp500.csv'\n",
        "stocks = 'https://vega.github.io/vega-datasets/data/stocks.csv'\n",
        "flights = 'https://vega.github.io/vega-datasets/data/flights-5k.json'"
      ],
      "execution_count": null,
      "outputs": []
    },
    {
      "cell_type": "markdown",
      "metadata": {
        "id": "gSkn979HxhMw",
        "colab_type": "text"
      },
      "source": [
        "## Interactive Charts With Altair\n",
        "\n",
        "Charts made with Altair remain interactive.  Example charts taken from [this repo](https://github.com/uwdata/visualization-curriculum), specifically [this notebook](https://github.com/uwdata/visualization-curriculum/blob/master/altair_interaction.ipynb)."
      ]
    },
    {
      "cell_type": "code",
      "metadata": {
        "id": "cq3IeOoYxhMx",
        "colab_type": "code",
        "colab": {}
      },
      "source": [
        "# hide\n",
        "df = pd.read_json(movies) # load movies data\n",
        "genres = df['Major_Genre'].unique() # get unique field values\n",
        "genres = list(filter(lambda d: d is not None, genres)) # filter out None values\n",
        "genres.sort() # sort alphabetically"
      ],
      "execution_count": null,
      "outputs": []
    },
    {
      "cell_type": "code",
      "metadata": {
        "id": "hHC1z6JpxhMz",
        "colab_type": "code",
        "colab": {}
      },
      "source": [
        "#hide\n",
        "mpaa = ['G', 'PG', 'PG-13', 'R', 'NC-17', 'Not Rated']"
      ],
      "execution_count": null,
      "outputs": []
    },
    {
      "cell_type": "markdown",
      "metadata": {
        "id": "SUPGci_pxhM1",
        "colab_type": "text"
      },
      "source": [
        "### Example 1: DropDown"
      ]
    },
    {
      "cell_type": "code",
      "metadata": {
        "id": "4RhzZDzBxhM2",
        "colab_type": "code",
        "colab": {},
        "outputId": "3aab265e-bfd6-4395-bdc3-819e70784ec7"
      },
      "source": [
        "# single-value selection over [Major_Genre, MPAA_Rating] pairs\n",
        "# use specific hard-wired values as the initial selected values\n",
        "selection = alt.selection_single(\n",
        "    name='Select',\n",
        "    fields=['Major_Genre', 'MPAA_Rating'],\n",
        "    init={'Major_Genre': 'Drama', 'MPAA_Rating': 'R'},\n",
        "    bind={'Major_Genre': alt.binding_select(options=genres), 'MPAA_Rating': alt.binding_radio(options=mpaa)}\n",
        ")\n",
        "  \n",
        "# scatter plot, modify opacity based on selection\n",
        "alt.Chart(movies).mark_circle().add_selection(\n",
        "    selection\n",
        ").encode(\n",
        "    x='Rotten_Tomatoes_Rating:Q',\n",
        "    y='IMDB_Rating:Q',\n",
        "    tooltip='Title:N',\n",
        "    opacity=alt.condition(selection, alt.value(0.75), alt.value(0.05))\n",
        ")"
      ],
      "execution_count": null,
      "outputs": [
        {
          "output_type": "execute_result",
          "data": {
            "text/html": [
              "\n",
              "<div id=\"altair-viz-1a49e83878ce4d678d7b162f3d6b510f\"></div>\n",
              "<script type=\"text/javascript\">\n",
              "  (function(spec, embedOpt){\n",
              "    const outputDiv = document.getElementById(\"altair-viz-1a49e83878ce4d678d7b162f3d6b510f\");\n",
              "    const paths = {\n",
              "      \"vega\": \"https://cdn.jsdelivr.net/npm//vega@5?noext\",\n",
              "      \"vega-lib\": \"https://cdn.jsdelivr.net/npm//vega-lib?noext\",\n",
              "      \"vega-lite\": \"https://cdn.jsdelivr.net/npm//vega-lite@4.0.2?noext\",\n",
              "      \"vega-embed\": \"https://cdn.jsdelivr.net/npm//vega-embed@6?noext\",\n",
              "    };\n",
              "\n",
              "    function loadScript(lib) {\n",
              "      return new Promise(function(resolve, reject) {\n",
              "        var s = document.createElement('script');\n",
              "        s.src = paths[lib];\n",
              "        s.async = true;\n",
              "        s.onload = () => resolve(paths[lib]);\n",
              "        s.onerror = () => reject(`Error loading script: ${paths[lib]}`);\n",
              "        document.getElementsByTagName(\"head\")[0].appendChild(s);\n",
              "      });\n",
              "    }\n",
              "\n",
              "    function showError(err) {\n",
              "      outputDiv.innerHTML = `<div class=\"error\" style=\"color:red;\">${err}</div>`;\n",
              "      throw err;\n",
              "    }\n",
              "\n",
              "    function displayChart(vegaEmbed) {\n",
              "      vegaEmbed(outputDiv, spec, embedOpt)\n",
              "        .catch(err => showError(`Javascript Error: ${err.message}<br>This usually means there's a typo in your chart specification. See the javascript console for the full traceback.`));\n",
              "    }\n",
              "\n",
              "    if(typeof define === \"function\" && define.amd) {\n",
              "      requirejs.config({paths});\n",
              "      require([\"vega-embed\"], displayChart, err => showError(`Error loading script: ${err.message}`));\n",
              "    } else if (typeof vegaEmbed === \"function\") {\n",
              "      displayChart(vegaEmbed);\n",
              "    } else {\n",
              "      loadScript(\"vega\")\n",
              "        .then(() => loadScript(\"vega-lite\"))\n",
              "        .then(() => loadScript(\"vega-embed\"))\n",
              "        .catch(showError)\n",
              "        .then(() => displayChart(vegaEmbed));\n",
              "    }\n",
              "  })({\"config\": {\"view\": {\"continuousWidth\": 400, \"continuousHeight\": 300}}, \"data\": {\"url\": \"https://vega.github.io/vega-datasets/data/movies.json\"}, \"mark\": \"circle\", \"encoding\": {\"opacity\": {\"condition\": {\"value\": 0.75, \"selection\": \"Select\"}, \"value\": 0.05}, \"tooltip\": {\"type\": \"nominal\", \"field\": \"Title\"}, \"x\": {\"type\": \"quantitative\", \"field\": \"Rotten_Tomatoes_Rating\"}, \"y\": {\"type\": \"quantitative\", \"field\": \"IMDB_Rating\"}}, \"selection\": {\"Select\": {\"type\": \"single\", \"fields\": [\"Major_Genre\", \"MPAA_Rating\"], \"init\": {\"Major_Genre\": \"Drama\", \"MPAA_Rating\": \"R\"}, \"bind\": {\"Major_Genre\": {\"input\": \"select\", \"options\": [\"Action\", \"Adventure\", \"Black Comedy\", \"Comedy\", \"Concert/Performance\", \"Documentary\", \"Drama\", \"Horror\", \"Musical\", \"Romantic Comedy\", \"Thriller/Suspense\", \"Western\"]}, \"MPAA_Rating\": {\"input\": \"radio\", \"options\": [\"G\", \"PG\", \"PG-13\", \"R\", \"NC-17\", \"Not Rated\"]}}}}, \"$schema\": \"https://vega.github.io/schema/vega-lite/v4.0.2.json\"}, {\"mode\": \"vega-lite\"});\n",
              "</script>"
            ],
            "text/plain": [
              "alt.Chart(...)"
            ]
          },
          "metadata": {
            "tags": []
          },
          "execution_count": 5
        }
      ]
    },
    {
      "cell_type": "markdown",
      "metadata": {
        "id": "v8b6VoqTxhM4",
        "colab_type": "text"
      },
      "source": [
        "### Example 2: Tooltips"
      ]
    },
    {
      "cell_type": "code",
      "metadata": {
        "id": "qbFURSkYxhM5",
        "colab_type": "code",
        "colab": {},
        "outputId": "2b5a07b6-ee16-41bb-ec5b-770280d80629"
      },
      "source": [
        "alt.Chart(movies).mark_circle().add_selection(\n",
        "    alt.selection_interval(bind='scales', encodings=['x'])\n",
        ").encode(\n",
        "    x='Rotten_Tomatoes_Rating:Q',\n",
        "    y=alt.Y('IMDB_Rating:Q', axis=alt.Axis(minExtent=30)), # use min extent to stabilize axis title placement\n",
        "    tooltip=['Title:N', 'Release_Date:N', 'IMDB_Rating:Q', 'Rotten_Tomatoes_Rating:Q']\n",
        ").properties(\n",
        "    width=600,\n",
        "    height=400\n",
        ")"
      ],
      "execution_count": null,
      "outputs": [
        {
          "output_type": "execute_result",
          "data": {
            "text/html": [
              "\n",
              "<div id=\"altair-viz-c022b476f4fb482ca6f609bf6ed082d2\"></div>\n",
              "<script type=\"text/javascript\">\n",
              "  (function(spec, embedOpt){\n",
              "    const outputDiv = document.getElementById(\"altair-viz-c022b476f4fb482ca6f609bf6ed082d2\");\n",
              "    const paths = {\n",
              "      \"vega\": \"https://cdn.jsdelivr.net/npm//vega@5?noext\",\n",
              "      \"vega-lib\": \"https://cdn.jsdelivr.net/npm//vega-lib?noext\",\n",
              "      \"vega-lite\": \"https://cdn.jsdelivr.net/npm//vega-lite@4.0.2?noext\",\n",
              "      \"vega-embed\": \"https://cdn.jsdelivr.net/npm//vega-embed@6?noext\",\n",
              "    };\n",
              "\n",
              "    function loadScript(lib) {\n",
              "      return new Promise(function(resolve, reject) {\n",
              "        var s = document.createElement('script');\n",
              "        s.src = paths[lib];\n",
              "        s.async = true;\n",
              "        s.onload = () => resolve(paths[lib]);\n",
              "        s.onerror = () => reject(`Error loading script: ${paths[lib]}`);\n",
              "        document.getElementsByTagName(\"head\")[0].appendChild(s);\n",
              "      });\n",
              "    }\n",
              "\n",
              "    function showError(err) {\n",
              "      outputDiv.innerHTML = `<div class=\"error\" style=\"color:red;\">${err}</div>`;\n",
              "      throw err;\n",
              "    }\n",
              "\n",
              "    function displayChart(vegaEmbed) {\n",
              "      vegaEmbed(outputDiv, spec, embedOpt)\n",
              "        .catch(err => showError(`Javascript Error: ${err.message}<br>This usually means there's a typo in your chart specification. See the javascript console for the full traceback.`));\n",
              "    }\n",
              "\n",
              "    if(typeof define === \"function\" && define.amd) {\n",
              "      requirejs.config({paths});\n",
              "      require([\"vega-embed\"], displayChart, err => showError(`Error loading script: ${err.message}`));\n",
              "    } else if (typeof vegaEmbed === \"function\") {\n",
              "      displayChart(vegaEmbed);\n",
              "    } else {\n",
              "      loadScript(\"vega\")\n",
              "        .then(() => loadScript(\"vega-lite\"))\n",
              "        .then(() => loadScript(\"vega-embed\"))\n",
              "        .catch(showError)\n",
              "        .then(() => displayChart(vegaEmbed));\n",
              "    }\n",
              "  })({\"config\": {\"view\": {\"continuousWidth\": 400, \"continuousHeight\": 300}}, \"data\": {\"url\": \"https://vega.github.io/vega-datasets/data/movies.json\"}, \"mark\": \"circle\", \"encoding\": {\"tooltip\": [{\"type\": \"nominal\", \"field\": \"Title\"}, {\"type\": \"nominal\", \"field\": \"Release_Date\"}, {\"type\": \"quantitative\", \"field\": \"IMDB_Rating\"}, {\"type\": \"quantitative\", \"field\": \"Rotten_Tomatoes_Rating\"}], \"x\": {\"type\": \"quantitative\", \"field\": \"Rotten_Tomatoes_Rating\"}, \"y\": {\"type\": \"quantitative\", \"axis\": {\"minExtent\": 30}, \"field\": \"IMDB_Rating\"}}, \"height\": 400, \"selection\": {\"selector001\": {\"type\": \"interval\", \"bind\": \"scales\", \"encodings\": [\"x\"]}}, \"width\": 600, \"$schema\": \"https://vega.github.io/schema/vega-lite/v4.0.2.json\"}, {\"mode\": \"vega-lite\"});\n",
              "</script>"
            ],
            "text/plain": [
              "alt.Chart(...)"
            ]
          },
          "metadata": {
            "tags": []
          },
          "execution_count": 6
        }
      ]
    },
    {
      "cell_type": "markdown",
      "metadata": {
        "id": "bQUzeOasxhM7",
        "colab_type": "text"
      },
      "source": [
        "### Example 3: More Tooltips"
      ]
    },
    {
      "cell_type": "code",
      "metadata": {
        "scrolled": true,
        "id": "VItQyDU4xhM7",
        "colab_type": "code",
        "colab": {},
        "outputId": "f9b14e50-4944-4d8e-cbfc-1b81102cc154"
      },
      "source": [
        "# select a point for which to provide details-on-demand\n",
        "label = alt.selection_single(\n",
        "    encodings=['x'], # limit selection to x-axis value\n",
        "    on='mouseover',  # select on mouseover events\n",
        "    nearest=True,    # select data point nearest the cursor\n",
        "    empty='none'     # empty selection includes no data points\n",
        ")\n",
        "\n",
        "# define our base line chart of stock prices\n",
        "base = alt.Chart().mark_line().encode(\n",
        "    alt.X('date:T'),\n",
        "    alt.Y('price:Q', scale=alt.Scale(type='log')),\n",
        "    alt.Color('symbol:N')\n",
        ")\n",
        "\n",
        "alt.layer(\n",
        "    base, # base line chart\n",
        "    \n",
        "    # add a rule mark to serve as a guide line\n",
        "    alt.Chart().mark_rule(color='#aaa').encode(\n",
        "        x='date:T'\n",
        "    ).transform_filter(label),\n",
        "    \n",
        "    # add circle marks for selected time points, hide unselected points\n",
        "    base.mark_circle().encode(\n",
        "        opacity=alt.condition(label, alt.value(1), alt.value(0))\n",
        "    ).add_selection(label),\n",
        "\n",
        "    # add white stroked text to provide a legible background for labels\n",
        "    base.mark_text(align='left', dx=5, dy=-5, stroke='white', strokeWidth=2).encode(\n",
        "        text='price:Q'\n",
        "    ).transform_filter(label),\n",
        "\n",
        "    # add text labels for stock prices\n",
        "    base.mark_text(align='left', dx=5, dy=-5).encode(\n",
        "        text='price:Q'\n",
        "    ).transform_filter(label),\n",
        "    \n",
        "    data=stocks\n",
        ").properties(\n",
        "    width=700,\n",
        "    height=400\n",
        ")"
      ],
      "execution_count": null,
      "outputs": [
        {
          "output_type": "execute_result",
          "data": {
            "text/html": [
              "\n",
              "<div id=\"altair-viz-9283d3681fd24aafa3d1e2f9ad193ecf\"></div>\n",
              "<script type=\"text/javascript\">\n",
              "  (function(spec, embedOpt){\n",
              "    const outputDiv = document.getElementById(\"altair-viz-9283d3681fd24aafa3d1e2f9ad193ecf\");\n",
              "    const paths = {\n",
              "      \"vega\": \"https://cdn.jsdelivr.net/npm//vega@5?noext\",\n",
              "      \"vega-lib\": \"https://cdn.jsdelivr.net/npm//vega-lib?noext\",\n",
              "      \"vega-lite\": \"https://cdn.jsdelivr.net/npm//vega-lite@4.0.2?noext\",\n",
              "      \"vega-embed\": \"https://cdn.jsdelivr.net/npm//vega-embed@6?noext\",\n",
              "    };\n",
              "\n",
              "    function loadScript(lib) {\n",
              "      return new Promise(function(resolve, reject) {\n",
              "        var s = document.createElement('script');\n",
              "        s.src = paths[lib];\n",
              "        s.async = true;\n",
              "        s.onload = () => resolve(paths[lib]);\n",
              "        s.onerror = () => reject(`Error loading script: ${paths[lib]}`);\n",
              "        document.getElementsByTagName(\"head\")[0].appendChild(s);\n",
              "      });\n",
              "    }\n",
              "\n",
              "    function showError(err) {\n",
              "      outputDiv.innerHTML = `<div class=\"error\" style=\"color:red;\">${err}</div>`;\n",
              "      throw err;\n",
              "    }\n",
              "\n",
              "    function displayChart(vegaEmbed) {\n",
              "      vegaEmbed(outputDiv, spec, embedOpt)\n",
              "        .catch(err => showError(`Javascript Error: ${err.message}<br>This usually means there's a typo in your chart specification. See the javascript console for the full traceback.`));\n",
              "    }\n",
              "\n",
              "    if(typeof define === \"function\" && define.amd) {\n",
              "      requirejs.config({paths});\n",
              "      require([\"vega-embed\"], displayChart, err => showError(`Error loading script: ${err.message}`));\n",
              "    } else if (typeof vegaEmbed === \"function\") {\n",
              "      displayChart(vegaEmbed);\n",
              "    } else {\n",
              "      loadScript(\"vega\")\n",
              "        .then(() => loadScript(\"vega-lite\"))\n",
              "        .then(() => loadScript(\"vega-embed\"))\n",
              "        .catch(showError)\n",
              "        .then(() => displayChart(vegaEmbed));\n",
              "    }\n",
              "  })({\"config\": {\"view\": {\"continuousWidth\": 400, \"continuousHeight\": 300}}, \"layer\": [{\"mark\": \"line\", \"encoding\": {\"color\": {\"type\": \"nominal\", \"field\": \"symbol\"}, \"x\": {\"type\": \"temporal\", \"field\": \"date\"}, \"y\": {\"type\": \"quantitative\", \"field\": \"price\", \"scale\": {\"type\": \"log\"}}}}, {\"mark\": {\"type\": \"rule\", \"color\": \"#aaa\"}, \"encoding\": {\"x\": {\"type\": \"temporal\", \"field\": \"date\"}}, \"transform\": [{\"filter\": {\"selection\": \"selector002\"}}]}, {\"mark\": \"circle\", \"encoding\": {\"color\": {\"type\": \"nominal\", \"field\": \"symbol\"}, \"opacity\": {\"condition\": {\"value\": 1, \"selection\": \"selector002\"}, \"value\": 0}, \"x\": {\"type\": \"temporal\", \"field\": \"date\"}, \"y\": {\"type\": \"quantitative\", \"field\": \"price\", \"scale\": {\"type\": \"log\"}}}, \"selection\": {\"selector002\": {\"type\": \"single\", \"encodings\": [\"x\"], \"on\": \"mouseover\", \"nearest\": true, \"empty\": \"none\"}}}, {\"mark\": {\"type\": \"text\", \"align\": \"left\", \"dx\": 5, \"dy\": -5, \"stroke\": \"white\", \"strokeWidth\": 2}, \"encoding\": {\"color\": {\"type\": \"nominal\", \"field\": \"symbol\"}, \"text\": {\"type\": \"quantitative\", \"field\": \"price\"}, \"x\": {\"type\": \"temporal\", \"field\": \"date\"}, \"y\": {\"type\": \"quantitative\", \"field\": \"price\", \"scale\": {\"type\": \"log\"}}}, \"transform\": [{\"filter\": {\"selection\": \"selector002\"}}]}, {\"mark\": {\"type\": \"text\", \"align\": \"left\", \"dx\": 5, \"dy\": -5}, \"encoding\": {\"color\": {\"type\": \"nominal\", \"field\": \"symbol\"}, \"text\": {\"type\": \"quantitative\", \"field\": \"price\"}, \"x\": {\"type\": \"temporal\", \"field\": \"date\"}, \"y\": {\"type\": \"quantitative\", \"field\": \"price\", \"scale\": {\"type\": \"log\"}}}, \"transform\": [{\"filter\": {\"selection\": \"selector002\"}}]}], \"data\": {\"url\": \"https://vega.github.io/vega-datasets/data/stocks.csv\"}, \"height\": 400, \"width\": 700, \"$schema\": \"https://vega.github.io/schema/vega-lite/v4.0.2.json\"}, {\"mode\": \"vega-lite\"});\n",
              "</script>"
            ],
            "text/plain": [
              "alt.LayerChart(...)"
            ]
          },
          "metadata": {
            "tags": []
          },
          "execution_count": 7
        }
      ]
    },
    {
      "cell_type": "markdown",
      "metadata": {
        "id": "EGps6lELxhM9",
        "colab_type": "text"
      },
      "source": [
        "## Data Tables\n",
        "\n",
        "You can display tables per the usual way in your blog:"
      ]
    },
    {
      "cell_type": "code",
      "metadata": {
        "id": "-_12rl-ixhM-",
        "colab_type": "code",
        "colab": {},
        "outputId": "1e8a332d-b572-4482-b588-087fd6db937a"
      },
      "source": [
        "movies = 'https://vega.github.io/vega-datasets/data/movies.json'\n",
        "df = pd.read_json(movies)\n",
        "# display table with pandas\n",
        "df[['Title', 'Worldwide_Gross', \n",
        "    'Production_Budget', 'Distributor', 'MPAA_Rating', 'IMDB_Rating', 'Rotten_Tomatoes_Rating']].head()"
      ],
      "execution_count": null,
      "outputs": [
        {
          "output_type": "execute_result",
          "data": {
            "text/html": [
              "<div>\n",
              "<style scoped>\n",
              "    .dataframe tbody tr th:only-of-type {\n",
              "        vertical-align: middle;\n",
              "    }\n",
              "\n",
              "    .dataframe tbody tr th {\n",
              "        vertical-align: top;\n",
              "    }\n",
              "\n",
              "    .dataframe thead th {\n",
              "        text-align: right;\n",
              "    }\n",
              "</style>\n",
              "<table border=\"1\" class=\"dataframe\">\n",
              "  <thead>\n",
              "    <tr style=\"text-align: right;\">\n",
              "      <th></th>\n",
              "      <th>Title</th>\n",
              "      <th>Worldwide_Gross</th>\n",
              "      <th>Production_Budget</th>\n",
              "      <th>Distributor</th>\n",
              "      <th>MPAA_Rating</th>\n",
              "      <th>IMDB_Rating</th>\n",
              "      <th>Rotten_Tomatoes_Rating</th>\n",
              "    </tr>\n",
              "  </thead>\n",
              "  <tbody>\n",
              "    <tr>\n",
              "      <th>0</th>\n",
              "      <td>The Land Girls</td>\n",
              "      <td>146083.0</td>\n",
              "      <td>8000000.0</td>\n",
              "      <td>Gramercy</td>\n",
              "      <td>R</td>\n",
              "      <td>6.1</td>\n",
              "      <td>NaN</td>\n",
              "    </tr>\n",
              "    <tr>\n",
              "      <th>1</th>\n",
              "      <td>First Love, Last Rites</td>\n",
              "      <td>10876.0</td>\n",
              "      <td>300000.0</td>\n",
              "      <td>Strand</td>\n",
              "      <td>R</td>\n",
              "      <td>6.9</td>\n",
              "      <td>NaN</td>\n",
              "    </tr>\n",
              "    <tr>\n",
              "      <th>2</th>\n",
              "      <td>I Married a Strange Person</td>\n",
              "      <td>203134.0</td>\n",
              "      <td>250000.0</td>\n",
              "      <td>Lionsgate</td>\n",
              "      <td>None</td>\n",
              "      <td>6.8</td>\n",
              "      <td>NaN</td>\n",
              "    </tr>\n",
              "    <tr>\n",
              "      <th>3</th>\n",
              "      <td>Let's Talk About Sex</td>\n",
              "      <td>373615.0</td>\n",
              "      <td>300000.0</td>\n",
              "      <td>Fine Line</td>\n",
              "      <td>None</td>\n",
              "      <td>NaN</td>\n",
              "      <td>13.0</td>\n",
              "    </tr>\n",
              "    <tr>\n",
              "      <th>4</th>\n",
              "      <td>Slam</td>\n",
              "      <td>1087521.0</td>\n",
              "      <td>1000000.0</td>\n",
              "      <td>Trimark</td>\n",
              "      <td>R</td>\n",
              "      <td>3.4</td>\n",
              "      <td>62.0</td>\n",
              "    </tr>\n",
              "  </tbody>\n",
              "</table>\n",
              "</div>"
            ],
            "text/plain": [
              "                        Title  Worldwide_Gross  Production_Budget Distributor  \\\n",
              "0              The Land Girls         146083.0          8000000.0    Gramercy   \n",
              "1      First Love, Last Rites          10876.0           300000.0      Strand   \n",
              "2  I Married a Strange Person         203134.0           250000.0   Lionsgate   \n",
              "3        Let's Talk About Sex         373615.0           300000.0   Fine Line   \n",
              "4                        Slam        1087521.0          1000000.0     Trimark   \n",
              "\n",
              "  MPAA_Rating  IMDB_Rating  Rotten_Tomatoes_Rating  \n",
              "0           R          6.1                     NaN  \n",
              "1           R          6.9                     NaN  \n",
              "2        None          6.8                     NaN  \n",
              "3        None          NaN                    13.0  \n",
              "4           R          3.4                    62.0  "
            ]
          },
          "metadata": {
            "tags": []
          },
          "execution_count": 11
        }
      ]
    },
    {
      "cell_type": "markdown",
      "metadata": {
        "id": "qpPPIv5hxhNA",
        "colab_type": "text"
      },
      "source": [
        "## Images\n",
        "\n",
        "### Local Images\n",
        "\n",
        "You can reference local images and they will be copied and rendered on your blog automatically.  You can include these with the following markdown syntax:\n",
        "\n",
        "`![](my_icons/fastai_logo.png)`"
      ]
    },
    {
      "cell_type": "markdown",
      "metadata": {
        "id": "g6UH8PdkxhNB",
        "colab_type": "text"
      },
      "source": [
        "![](https://github.com/kovasb/blog/blob/master/_notebooks/my_icons/fastai_logo.png?raw=1)"
      ]
    },
    {
      "cell_type": "markdown",
      "metadata": {
        "id": "DnBgA7QExhNB",
        "colab_type": "text"
      },
      "source": [
        "### Remote Images\n",
        "\n",
        "Remote images can be included with the following markdown syntax:\n",
        "\n",
        "`![](https://image.flaticon.com/icons/svg/36/36686.svg)`"
      ]
    },
    {
      "cell_type": "markdown",
      "metadata": {
        "id": "RW7-VdwZxhNB",
        "colab_type": "text"
      },
      "source": [
        "![](https://image.flaticon.com/icons/svg/36/36686.svg)"
      ]
    },
    {
      "cell_type": "markdown",
      "metadata": {
        "id": "Cf4iJK_fxhNC",
        "colab_type": "text"
      },
      "source": [
        "### Animated Gifs\n",
        "\n",
        "Animated Gifs work, too!\n",
        "\n",
        "`![](https://upload.wikimedia.org/wikipedia/commons/7/71/ChessPawnSpecialMoves.gif)`"
      ]
    },
    {
      "cell_type": "markdown",
      "metadata": {
        "id": "kWgoZaGLxhNC",
        "colab_type": "text"
      },
      "source": [
        "![](https://upload.wikimedia.org/wikipedia/commons/7/71/ChessPawnSpecialMoves.gif)"
      ]
    },
    {
      "cell_type": "markdown",
      "metadata": {
        "id": "RY-cbf1gxhND",
        "colab_type": "text"
      },
      "source": [
        "### Captions\n",
        "\n",
        "You can include captions with markdown images like this:\n",
        "\n",
        "```\n",
        "![](https://www.fast.ai/images/fastai_paper/show_batch.png \"Credit: https://www.fast.ai/2020/02/13/fastai-A-Layered-API-for-Deep-Learning/\")\n",
        "```\n",
        "\n",
        "\n",
        "![](https://www.fast.ai/images/fastai_paper/show_batch.png \"Credit: https://www.fast.ai/2020/02/13/fastai-A-Layered-API-for-Deep-Learning/\")\n",
        "\n",
        "\n",
        "\n"
      ]
    },
    {
      "cell_type": "markdown",
      "metadata": {
        "id": "QonvHrT0xhND",
        "colab_type": "text"
      },
      "source": [
        "# Other Elements"
      ]
    },
    {
      "cell_type": "markdown",
      "metadata": {
        "id": "j4hoRH8GxhND",
        "colab_type": "text"
      },
      "source": [
        "## GitHub Flavored Emojis\n",
        "\n",
        "Typing `I give this post two :+1:!` will render this:\n",
        "\n",
        "I give this post two :+1:!"
      ]
    },
    {
      "cell_type": "markdown",
      "metadata": {
        "id": "7bSTks7kxhNE",
        "colab_type": "text"
      },
      "source": [
        "## Tweetcards\n",
        "\n",
        "Typing `> twitter: https://twitter.com/jakevdp/status/1204765621767901185?s=20` will render this:\n",
        "\n",
        "> twitter: https://twitter.com/jakevdp/status/1204765621767901185?s=20"
      ]
    },
    {
      "cell_type": "markdown",
      "metadata": {
        "id": "OS5SRu2ZxhNE",
        "colab_type": "text"
      },
      "source": [
        "## Youtube Videos\n",
        "\n",
        "Typing `> youtube: https://youtu.be/XfoYk_Z5AkI` will render this:\n",
        "\n",
        "\n",
        "> youtube: https://youtu.be/XfoYk_Z5AkI"
      ]
    },
    {
      "cell_type": "markdown",
      "metadata": {
        "id": "YJY6cVIYxhNE",
        "colab_type": "text"
      },
      "source": [
        "## Boxes / Callouts \n",
        "\n",
        "Typing `> Warning: There will be no second warning!` will render this:\n",
        "\n",
        "\n",
        "> Warning: There will be no second warning!\n",
        "\n",
        "\n",
        "\n",
        "Typing `> Important: Pay attention! It's important.` will render this:\n",
        "\n",
        "> Important: Pay attention! It's important.\n",
        "\n",
        "\n",
        "\n",
        "Typing `> Tip: This is my tip.` will render this:\n",
        "\n",
        "> Tip: This is my tip.\n",
        "\n",
        "\n",
        "\n",
        "Typing `> Note: Take note of this.` will render this:\n",
        "\n",
        "> Note: Take note of this.\n",
        "\n",
        "\n",
        "\n",
        "Typing `> Note: A doc link to [an example website: fast.ai](https://www.fast.ai/) should also work fine.` will render in the docs:\n",
        "\n",
        "> Note: A doc link to [an example website: fast.ai](https://www.fast.ai/) should also work fine."
      ]
    },
    {
      "cell_type": "markdown",
      "metadata": {
        "id": "Ypw1Z5euxhNF",
        "colab_type": "text"
      },
      "source": [
        "## Footnotes\n",
        "\n",
        "You can have footnotes in notebooks, however the syntax is different compared to markdown documents. [This guide provides more detail about this syntax](https://github.com/fastai/fastpages/blob/master/_fastpages_docs/NOTEBOOK_FOOTNOTES.md), which looks like this:\n",
        "\n",
        "```\n",
        "{% raw %}For example, here is a footnote {% fn 1 %}.\n",
        "And another {% fn 2 %}\n",
        "{{ 'This is the footnote.' | fndetail: 1 }}\n",
        "{{ 'This is the other footnote. You can even have a [link](www.github.com)!' | fndetail: 2 }}{% endraw %}\n",
        "```\n",
        "\n",
        "For example, here is a footnote {% fn 1 %}.\n",
        "\n",
        "And another {% fn 2 %}\n",
        "\n",
        "{{ 'This is the footnote.' | fndetail: 1 }}\n",
        "{{ 'This is the other footnote. You can even have a [link](www.github.com)!' | fndetail: 2 }}"
      ]
    }
  ]
}