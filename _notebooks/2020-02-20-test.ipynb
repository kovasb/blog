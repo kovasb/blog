{
  "nbformat": 4,
  "nbformat_minor": 0,
  "metadata": {
    "kernelspec": {
      "display_name": "Python 3",
      "language": "python",
      "name": "python3"
    },
    "language_info": {
      "codemirror_mode": {
        "name": "ipython",
        "version": 3
      },
      "file_extension": ".py",
      "mimetype": "text/x-python",
      "name": "python",
      "nbconvert_exporter": "python",
      "pygments_lexer": "ipython3",
      "version": "3.6.7"
    },
    "varInspector": {
      "cols": {
        "lenName": 16,
        "lenType": 16,
        "lenVar": 40
      },
      "kernels_config": {
        "python": {
          "delete_cmd_postfix": "",
          "delete_cmd_prefix": "del ",
          "library": "var_list.py",
          "varRefreshCmd": "print(var_dic_list())"
        },
        "r": {
          "delete_cmd_postfix": ") ",
          "delete_cmd_prefix": "rm(",
          "library": "var_list.r",
          "varRefreshCmd": "cat(var_dic_list()) "
        }
      },
      "types_to_exclude": [
        "module",
        "function",
        "builtin_function_or_method",
        "instance",
        "_Feature"
      ],
      "window_display": false
    },
    "colab": {
      "name": "2020-02-20-test.ipynb",
      "provenance": []
    }
  },
  "cells": [
    {
      "cell_type": "markdown",
      "metadata": {
        "id": "ADXq_QDAxhMk",
        "colab_type": "text"
      },
      "source": [
        "# Learning To Program Cellular Automata With Jax\n",
        "> A tutorial of fastpages for Jupyter notebooks.\n",
        "\n",
        "- toc: true \n",
        "- badges: true\n",
        "- comments: true\n",
        "- categories: [jupyter]\n",
        "- image: images/chart-preview.png"
      ]
    },
    {
      "cell_type": "code",
      "metadata": {
        "id": "e-Heej2e3Q7c",
        "colab_type": "code",
        "colab": {
          "base_uri": "https://localhost:8080/",
          "height": 187
        },
        "outputId": "ae573c52-780c-43a3-e217-df46a81a03be"
      },
      "source": [
        "!pip install pypng"
      ],
      "execution_count": 10,
      "outputs": [
        {
          "output_type": "stream",
          "text": [
            "Collecting pypng\n",
            "\u001b[?25l  Downloading https://files.pythonhosted.org/packages/bc/fb/f719f1ac965e2101aa6ea6f54ef8b40f8fbb033f6ad07c017663467f5147/pypng-0.0.20.tar.gz (649kB)\n",
            "\r\u001b[K     |▌                               | 10kB 16.3MB/s eta 0:00:01\r\u001b[K     |█                               | 20kB 1.7MB/s eta 0:00:01\r\u001b[K     |█▌                              | 30kB 2.3MB/s eta 0:00:01\r\u001b[K     |██                              | 40kB 2.6MB/s eta 0:00:01\r\u001b[K     |██▌                             | 51kB 2.0MB/s eta 0:00:01\r\u001b[K     |███                             | 61kB 2.3MB/s eta 0:00:01\r\u001b[K     |███▌                            | 71kB 2.5MB/s eta 0:00:01\r\u001b[K     |████                            | 81kB 2.7MB/s eta 0:00:01\r\u001b[K     |████▌                           | 92kB 2.9MB/s eta 0:00:01\r\u001b[K     |█████                           | 102kB 2.8MB/s eta 0:00:01\r\u001b[K     |█████▌                          | 112kB 2.8MB/s eta 0:00:01\r\u001b[K     |██████                          | 122kB 2.8MB/s eta 0:00:01\r\u001b[K     |██████▋                         | 133kB 2.8MB/s eta 0:00:01\r\u001b[K     |███████                         | 143kB 2.8MB/s eta 0:00:01\r\u001b[K     |███████▋                        | 153kB 2.8MB/s eta 0:00:01\r\u001b[K     |████████                        | 163kB 2.8MB/s eta 0:00:01\r\u001b[K     |████████▋                       | 174kB 2.8MB/s eta 0:00:01\r\u001b[K     |█████████                       | 184kB 2.8MB/s eta 0:00:01\r\u001b[K     |█████████▋                      | 194kB 2.8MB/s eta 0:00:01\r\u001b[K     |██████████                      | 204kB 2.8MB/s eta 0:00:01\r\u001b[K     |██████████▋                     | 215kB 2.8MB/s eta 0:00:01\r\u001b[K     |███████████                     | 225kB 2.8MB/s eta 0:00:01\r\u001b[K     |███████████▋                    | 235kB 2.8MB/s eta 0:00:01\r\u001b[K     |████████████                    | 245kB 2.8MB/s eta 0:00:01\r\u001b[K     |████████████▋                   | 256kB 2.8MB/s eta 0:00:01\r\u001b[K     |█████████████▏                  | 266kB 2.8MB/s eta 0:00:01\r\u001b[K     |█████████████▋                  | 276kB 2.8MB/s eta 0:00:01\r\u001b[K     |██████████████▏                 | 286kB 2.8MB/s eta 0:00:01\r\u001b[K     |██████████████▋                 | 296kB 2.8MB/s eta 0:00:01\r\u001b[K     |███████████████▏                | 307kB 2.8MB/s eta 0:00:01\r\u001b[K     |███████████████▋                | 317kB 2.8MB/s eta 0:00:01\r\u001b[K     |████████████████▏               | 327kB 2.8MB/s eta 0:00:01\r\u001b[K     |████████████████▋               | 337kB 2.8MB/s eta 0:00:01\r\u001b[K     |█████████████████▏              | 348kB 2.8MB/s eta 0:00:01\r\u001b[K     |█████████████████▋              | 358kB 2.8MB/s eta 0:00:01\r\u001b[K     |██████████████████▏             | 368kB 2.8MB/s eta 0:00:01\r\u001b[K     |██████████████████▋             | 378kB 2.8MB/s eta 0:00:01\r\u001b[K     |███████████████████▏            | 389kB 2.8MB/s eta 0:00:01\r\u001b[K     |███████████████████▊            | 399kB 2.8MB/s eta 0:00:01\r\u001b[K     |████████████████████▏           | 409kB 2.8MB/s eta 0:00:01\r\u001b[K     |████████████████████▊           | 419kB 2.8MB/s eta 0:00:01\r\u001b[K     |█████████████████████▏          | 430kB 2.8MB/s eta 0:00:01\r\u001b[K     |█████████████████████▊          | 440kB 2.8MB/s eta 0:00:01\r\u001b[K     |██████████████████████▏         | 450kB 2.8MB/s eta 0:00:01\r\u001b[K     |██████████████████████▊         | 460kB 2.8MB/s eta 0:00:01\r\u001b[K     |███████████████████████▏        | 471kB 2.8MB/s eta 0:00:01\r\u001b[K     |███████████████████████▊        | 481kB 2.8MB/s eta 0:00:01\r\u001b[K     |████████████████████████▏       | 491kB 2.8MB/s eta 0:00:01\r\u001b[K     |████████████████████████▊       | 501kB 2.8MB/s eta 0:00:01\r\u001b[K     |█████████████████████████▎      | 512kB 2.8MB/s eta 0:00:01\r\u001b[K     |█████████████████████████▊      | 522kB 2.8MB/s eta 0:00:01\r\u001b[K     |██████████████████████████▎     | 532kB 2.8MB/s eta 0:00:01\r\u001b[K     |██████████████████████████▊     | 542kB 2.8MB/s eta 0:00:01\r\u001b[K     |███████████████████████████▎    | 552kB 2.8MB/s eta 0:00:01\r\u001b[K     |███████████████████████████▊    | 563kB 2.8MB/s eta 0:00:01\r\u001b[K     |████████████████████████████▎   | 573kB 2.8MB/s eta 0:00:01\r\u001b[K     |████████████████████████████▊   | 583kB 2.8MB/s eta 0:00:01\r\u001b[K     |█████████████████████████████▎  | 593kB 2.8MB/s eta 0:00:01\r\u001b[K     |█████████████████████████████▊  | 604kB 2.8MB/s eta 0:00:01\r\u001b[K     |██████████████████████████████▎ | 614kB 2.8MB/s eta 0:00:01\r\u001b[K     |██████████████████████████████▊ | 624kB 2.8MB/s eta 0:00:01\r\u001b[K     |███████████████████████████████▎| 634kB 2.8MB/s eta 0:00:01\r\u001b[K     |███████████████████████████████▉| 645kB 2.8MB/s eta 0:00:01\r\u001b[K     |████████████████████████████████| 655kB 2.8MB/s \n",
            "\u001b[?25hBuilding wheels for collected packages: pypng\n",
            "  Building wheel for pypng (setup.py) ... \u001b[?25l\u001b[?25hdone\n",
            "  Created wheel for pypng: filename=pypng-0.0.20-cp36-none-any.whl size=67161 sha256=006a66b44bd233d6a40cc47b6738b755c4513aa7f8f1952d3cd06d802eea73b7\n",
            "  Stored in directory: /root/.cache/pip/wheels/41/6b/ef/0493b536b6d4722c2ae9486691b1d49b922b9877922beeabb3\n",
            "Successfully built pypng\n",
            "Installing collected packages: pypng\n",
            "Successfully installed pypng-0.0.20\n"
          ],
          "name": "stdout"
        }
      ]
    },
    {
      "cell_type": "code",
      "metadata": {
        "id": "iFi54dDY3GHl",
        "colab_type": "code",
        "colab": {}
      },
      "source": [
        "import png"
      ],
      "execution_count": 11,
      "outputs": []
    },
    {
      "cell_type": "code",
      "metadata": {
        "id": "8ngzqRDB27ef",
        "colab_type": "code",
        "colab": {}
      },
      "source": [
        "import io\n",
        "import numpy as np\n",
        "import png\n",
        "def png_bytes(a):\n",
        "    output = io.BytesIO()\n",
        "    b = (1 - a)\n",
        "    png.from_array(b.astype(np.uint8)*255, 'L').write(output)\n",
        "    return output.getvalue()"
      ],
      "execution_count": 12,
      "outputs": []
    },
    {
      "cell_type": "code",
      "metadata": {
        "id": "39SITTOE2w3F",
        "colab_type": "code",
        "colab": {}
      },
      "source": [
        "import base64\n",
        "dataurl = b'data:image/png;base64,'+base64.b64encode(png_bytes(np.identity(128)))\n",
        "#dataurl = b'\"'+dataurl + b'\"'"
      ],
      "execution_count": 17,
      "outputs": []
    },
    {
      "cell_type": "code",
      "metadata": {
        "id": "l-oHrdzI3bAq",
        "colab_type": "code",
        "colab": {
          "base_uri": "https://localhost:8080/",
          "height": 54
        },
        "outputId": "942009fc-75a5-4930-bed5-7ff47c26f527"
      },
      "source": [
        "dataurl"
      ],
      "execution_count": 18,
      "outputs": [
        {
          "output_type": "execute_result",
          "data": {
            "text/plain": [
              "b'data:image/png;base64,iVBORw0KGgoAAAANSUhEUgAAAIAAAACACAAAAADmVT4XAAABzklEQVR4nMXbW1ICQRQE0bv/TbchCDJMv/tWpR8qP5UnDIVhOowo7EcUWBAFFkSBBfH+RAJIQVy+cABOELdvKAAliOq3DIARRPMBASAE0X3oB/gFt6BbcO+ZBZWcV1CrWQXVmFNQbxkFjZRP0CrZBM2QS9DumASdjEfQq1gE3YhD0G8YBIOEXjAqyAXDgFow3hcLJua1gpl1qWBqXCmY2xYKJqd1gtllmWB6WCWY3xUJFmY1gpVViWBpVCFY2xQIFifzBauL6YLlwWzB+l6yYGMuV7CzlirYGssU7G0lCjan8gS7S2mC7aEswf5OkuBgJkdwspIiOBrJEJxtJAgOJ84FpwvHAnwA/xniv0b4XxL+ZII/n+IvKfirKn5hgV9b4ZeX+BU2/iYDf5+Fv9XE323jNxzwey74bSf8zht+8xG//4rfgsbvwuMHEfhZDH4chZ/I4YeS+LksfjSNn86rAcOAHDAq6AGDhAHQbzgA3YgF0Kt4AJ2MCdDuuADNkA3QKvkAjZQRUG85AdWYFVCreQGVnBlw77kBt6Ad8F30A76SAODaJACXKAL4rDKAjywE+O9SgHcYA7zKHOAvDQKebRLwiKOA3zoLKPj/3pf4Ae2ZRDI2yuEZAAAAAElFTkSuQmCC'"
            ]
          },
          "metadata": {
            "tags": []
          },
          "execution_count": 18
        }
      ]
    },
    {
      "cell_type": "code",
      "metadata": {
        "id": "wZZ3HWWU2FgB",
        "colab_type": "code",
        "colab": {
          "base_uri": "https://localhost:8080/",
          "height": 416
        },
        "outputId": "93464c11-33e1-409a-cace-2b82e84b9069"
      },
      "source": [
        "import altair as alt\n",
        "import pandas as pd\n",
        "\n",
        "source = pd.DataFrame.from_records([\n",
        "      {\"x\": 0.5, \"y\": 0.5, \"img\": dataurl.decode(\"utf-8\")},\n",
        "      {\"x\": 1.5, \"y\": 1.5, \"img\": \"https://vega.github.io/vega-datasets/data/gimp.png\"},\n",
        "      {\"x\": 2.5, \"y\": 2.5, \"img\": \"https://vega.github.io/vega-datasets/data/7zip.png\"}\n",
        "])\n",
        "\n",
        "alt.Chart(source).mark_image(\n",
        "    width=128,\n",
        "    height=128\n",
        ").encode(\n",
        "    x='x',\n",
        "    y='y',\n",
        "    url='img'\n",
        ")"
      ],
      "execution_count": 22,
      "outputs": [
        {
          "output_type": "execute_result",
          "data": {
            "text/plain": [
              "alt.Chart(...)"
            ],
            "text/html": [
              "\n",
              "<div id=\"altair-viz-f8882605583b4a28b51cb00d212296bd\"></div>\n",
              "<script type=\"text/javascript\">\n",
              "  (function(spec, embedOpt){\n",
              "    let outputDiv = document.currentScript.previousElementSibling;\n",
              "    if (outputDiv.id !== \"altair-viz-f8882605583b4a28b51cb00d212296bd\") {\n",
              "      outputDiv = document.getElementById(\"altair-viz-f8882605583b4a28b51cb00d212296bd\");\n",
              "    }\n",
              "    const paths = {\n",
              "      \"vega\": \"https://cdn.jsdelivr.net/npm//vega@5?noext\",\n",
              "      \"vega-lib\": \"https://cdn.jsdelivr.net/npm//vega-lib?noext\",\n",
              "      \"vega-lite\": \"https://cdn.jsdelivr.net/npm//vega-lite@4.8.1?noext\",\n",
              "      \"vega-embed\": \"https://cdn.jsdelivr.net/npm//vega-embed@6?noext\",\n",
              "    };\n",
              "\n",
              "    function loadScript(lib) {\n",
              "      return new Promise(function(resolve, reject) {\n",
              "        var s = document.createElement('script');\n",
              "        s.src = paths[lib];\n",
              "        s.async = true;\n",
              "        s.onload = () => resolve(paths[lib]);\n",
              "        s.onerror = () => reject(`Error loading script: ${paths[lib]}`);\n",
              "        document.getElementsByTagName(\"head\")[0].appendChild(s);\n",
              "      });\n",
              "    }\n",
              "\n",
              "    function showError(err) {\n",
              "      outputDiv.innerHTML = `<div class=\"error\" style=\"color:red;\">${err}</div>`;\n",
              "      throw err;\n",
              "    }\n",
              "\n",
              "    function displayChart(vegaEmbed) {\n",
              "      vegaEmbed(outputDiv, spec, embedOpt)\n",
              "        .catch(err => showError(`Javascript Error: ${err.message}<br>This usually means there's a typo in your chart specification. See the javascript console for the full traceback.`));\n",
              "    }\n",
              "\n",
              "    if(typeof define === \"function\" && define.amd) {\n",
              "      requirejs.config({paths});\n",
              "      require([\"vega-embed\"], displayChart, err => showError(`Error loading script: ${err.message}`));\n",
              "    } else if (typeof vegaEmbed === \"function\") {\n",
              "      displayChart(vegaEmbed);\n",
              "    } else {\n",
              "      loadScript(\"vega\")\n",
              "        .then(() => loadScript(\"vega-lite\"))\n",
              "        .then(() => loadScript(\"vega-embed\"))\n",
              "        .catch(showError)\n",
              "        .then(() => displayChart(vegaEmbed));\n",
              "    }\n",
              "  })({\"config\": {\"view\": {\"continuousWidth\": 400, \"continuousHeight\": 300}}, \"data\": {\"name\": \"data-bd20a103d897013ef96f6eb7e80502a9\"}, \"mark\": {\"type\": \"image\", \"height\": 128, \"width\": 128}, \"encoding\": {\"url\": {\"type\": \"nominal\", \"field\": \"img\"}, \"x\": {\"type\": \"quantitative\", \"field\": \"x\"}, \"y\": {\"type\": \"quantitative\", \"field\": \"y\"}}, \"$schema\": \"https://vega.github.io/schema/vega-lite/v4.8.1.json\", \"datasets\": {\"data-bd20a103d897013ef96f6eb7e80502a9\": [{\"x\": 0.5, \"y\": 0.5, \"img\": \"data:image/png;base64,iVBORw0KGgoAAAANSUhEUgAAAIAAAACACAAAAADmVT4XAAABzklEQVR4nMXbW1ICQRQE0bv/TbchCDJMv/tWpR8qP5UnDIVhOowo7EcUWBAFFkSBBfH+RAJIQVy+cABOELdvKAAliOq3DIARRPMBASAE0X3oB/gFt6BbcO+ZBZWcV1CrWQXVmFNQbxkFjZRP0CrZBM2QS9DumASdjEfQq1gE3YhD0G8YBIOEXjAqyAXDgFow3hcLJua1gpl1qWBqXCmY2xYKJqd1gtllmWB6WCWY3xUJFmY1gpVViWBpVCFY2xQIFifzBauL6YLlwWzB+l6yYGMuV7CzlirYGssU7G0lCjan8gS7S2mC7aEswf5OkuBgJkdwspIiOBrJEJxtJAgOJ84FpwvHAnwA/xniv0b4XxL+ZII/n+IvKfirKn5hgV9b4ZeX+BU2/iYDf5+Fv9XE323jNxzwey74bSf8zht+8xG//4rfgsbvwuMHEfhZDH4chZ/I4YeS+LksfjSNn86rAcOAHDAq6AGDhAHQbzgA3YgF0Kt4AJ2MCdDuuADNkA3QKvkAjZQRUG85AdWYFVCreQGVnBlw77kBt6Ad8F30A76SAODaJACXKAL4rDKAjywE+O9SgHcYA7zKHOAvDQKebRLwiKOA3zoLKPj/3pf4Ae2ZRDI2yuEZAAAAAElFTkSuQmCC\"}, {\"x\": 1.5, \"y\": 1.5, \"img\": \"https://vega.github.io/vega-datasets/data/gimp.png\"}, {\"x\": 2.5, \"y\": 2.5, \"img\": \"https://vega.github.io/vega-datasets/data/7zip.png\"}]}}, {\"mode\": \"vega-lite\"});\n",
              "</script>"
            ]
          },
          "metadata": {
            "tags": []
          },
          "execution_count": 22
        }
      ]
    }
  ]
}